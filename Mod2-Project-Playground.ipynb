{
 "cells": [
  {
   "cell_type": "markdown",
   "metadata": {},
   "source": [
    "# Project Playground - Module 2\n",
    "\n",
    "<br> David Mauger\n",
    "<br> Data Science - Full Time Immersive\n",
    "<br> Date: xx\n",
    "<br> Howard Smith & Amanda Yandow\n",
    "<br> https://github.com/Maugy"
   ]
  },
  {
   "cell_type": "markdown",
   "metadata": {},
   "source": [
    "# Project: xxx"
   ]
  },
  {
   "cell_type": "markdown",
   "metadata": {},
   "source": [
    "## Overview\n",
    "1. [Objective & Background](#001)\n",
    "2. [Obtaining Data](#002)\n",
    "3. [Scrubbing Data](#003)\n",
    "4. [Exploring Data](#004)\n",
    "5. [Modeling Data](#005)\n",
    "6. [Interpreting Data](#006)\n"
   ]
  },
  {
   "cell_type": "markdown",
   "metadata": {},
   "source": [
    "<a id=\"001\"></a>"
   ]
  },
  {
   "cell_type": "markdown",
   "metadata": {},
   "source": [
    "## 1) Objective & Background\n",
    "***\n"
   ]
  },
  {
   "cell_type": "markdown",
   "metadata": {},
   "source": [
    "**1.1 Questions to Answer:**\n",
    "> 1) \n",
    "<br> 2) \n",
    "<br> 3) \n",
    "<br>"
   ]
  },
  {
   "cell_type": "markdown",
   "metadata": {},
   "source": [
    "**1.2 Data Provided:** \n",
    ">**Below**\n"
   ]
  },
  {
   "cell_type": "markdown",
   "metadata": {},
   "source": [
    "**1.3 Methodology**\n",
    "> OSEMN Process\n",
    ">    - Obtain Data\n",
    ">    - Scrub Data\n",
    ">    - Explore Data\n",
    ">    - Model Data\n",
    ">    - Interpret Data"
   ]
  },
  {
   "cell_type": "markdown",
   "metadata": {},
   "source": [
    "<a id=\"002\"></a>"
   ]
  },
  {
   "cell_type": "markdown",
   "metadata": {},
   "source": [
    "## 2) Obtaining Data\n",
    "***"
   ]
  },
  {
   "cell_type": "code",
   "execution_count": 1,
   "metadata": {},
   "outputs": [],
   "source": [
    "# import pandas as pd\n",
    "# import matplotlib.pyplot as plt \n",
    "# import seaborn as sns\n",
    "# import numpy as np\n",
    "# %matplotlib inline\n",
    "# sns.set_style('darkgrid')\n",
    "# sns.set_palette('husl')\n",
    "# plt.style.use('ggplot')\n",
    "\n",
    "# import warnings\n",
    "# warnings.filterwarnings('ignore')\n",
    "\n",
    "# df = pd.read_csv('kc_house_data-copy1.csv')"
   ]
  },
  {
   "cell_type": "markdown",
   "metadata": {},
   "source": [
    "<a id=\"003\"></a>"
   ]
  },
  {
   "cell_type": "markdown",
   "metadata": {},
   "source": [
    "## 3)  Scrubbing Data\n",
    "***\n"
   ]
  },
  {
   "cell_type": "markdown",
   "metadata": {},
   "source": [
    "**3.1** - [Data Observations](#3.1) \n",
    "<br>**3.2** - [Categorical Data & Datatypes](#3.2) \n",
    "<br>**3.3** - [Null Values](#3.3) \n",
    "<br>**3.4** - [Feature Engineering](#3.4)\n",
    "<br>**3.5** - [Multicollinearity](#3.5) \n",
    "<br>**3.6** - [Cleaned Dataset](#3.6)\n",
    "<br>\n",
    "<br>\n",
    "<br>"
   ]
  },
  {
   "cell_type": "markdown",
   "metadata": {},
   "source": [
    "<a id=\"3.1\"></a>"
   ]
  },
  {
   "cell_type": "markdown",
   "metadata": {},
   "source": [
    "### 3.1 - Data Observations"
   ]
  },
  {
   "cell_type": "code",
   "execution_count": 2,
   "metadata": {
    "scrolled": true
   },
   "outputs": [],
   "source": [
    "# df.head()"
   ]
  },
  {
   "cell_type": "code",
   "execution_count": 3,
   "metadata": {},
   "outputs": [],
   "source": [
    "# print('\\n *Data Shape* \\n', df.shape)\n",
    "# print('\\n *Data Types* \\n')\n",
    "# print(df.dtypes)\n"
   ]
  },
  {
   "cell_type": "code",
   "execution_count": 4,
   "metadata": {},
   "outputs": [],
   "source": [
    "# print('\\n *Data Info* \\n')\n",
    "# df.info()"
   ]
  },
  {
   "cell_type": "code",
   "execution_count": 5,
   "metadata": {
    "scrolled": false
   },
   "outputs": [],
   "source": [
    "# print('\\n *Data Description* \\n')\n",
    "# df.describe()"
   ]
  },
  {
   "cell_type": "markdown",
   "metadata": {},
   "source": [
    "<a id=\"3.2\"></a>"
   ]
  },
  {
   "cell_type": "markdown",
   "metadata": {},
   "source": [
    "### 3.2 - Categorical Data & Datatypes"
   ]
  },
  {
   "cell_type": "markdown",
   "metadata": {},
   "source": [
    "**Broad overview of value counts in each feature. Immediate observations include:**\n",
    "> - x \n",
    "> - x\n",
    "> - x "
   ]
  },
  {
   "cell_type": "code",
   "execution_count": 6,
   "metadata": {},
   "outputs": [],
   "source": [
    "# for col in df.columns:\n",
    "#     print(col, '\\n', df[col].value_counts(normalize=True).head(), '\\n\\n')"
   ]
  },
  {
   "cell_type": "code",
   "execution_count": 7,
   "metadata": {
    "scrolled": true
   },
   "outputs": [],
   "source": [
    "# print('\\n *Value Counts - sqft_basement* \\n')\n",
    "# print(df['sqft_basement'].value_counts().head(),'\\n')\n",
    "# print('\\n *Value Percentages - sqft_basement* \\n')\n",
    "# print(df['sqft_basement'].value_counts(normalize=True).head())"
   ]
  },
  {
   "cell_type": "markdown",
   "metadata": {},
   "source": [
    "<br> **Modify Datatypes & Replace Values**"
   ]
  },
  {
   "cell_type": "code",
   "execution_count": 8,
   "metadata": {
    "scrolled": true
   },
   "outputs": [],
   "source": [
    "# print('\\n *Replace & Change Datatype* \\n')\n",
    "# df.sqft_basement.replace(['?'], '0', inplace=True)\n",
    "# df.sqft_basement = df.sqft_basement.astype('float').astype('int')\n",
    "# df.sqft_basement.value_counts().head()"
   ]
  },
  {
   "cell_type": "code",
   "execution_count": 9,
   "metadata": {},
   "outputs": [],
   "source": [
    "# df['waterfront'].value_counts()"
   ]
  },
  {
   "cell_type": "code",
   "execution_count": 10,
   "metadata": {},
   "outputs": [],
   "source": [
    "# df.waterfront = df.waterfront.astype('str')\n",
    "# df.condition = df.condition.astype('str')\n",
    "# df.grade = df.grade.astype('str')\n",
    "\n",
    "# print(df.waterfront.unique())\n",
    "# print(df.condition.unique())\n",
    "# print(df.grade.unique())"
   ]
  },
  {
   "cell_type": "code",
   "execution_count": 11,
   "metadata": {},
   "outputs": [],
   "source": [
    "# df.price = df.price.astype('int')\n",
    "# #change price to integer?"
   ]
  },
  {
   "cell_type": "code",
   "execution_count": 12,
   "metadata": {},
   "outputs": [],
   "source": [
    "# print(df.floors.head())\n",
    "# print(df.bathrooms.head())\n",
    "# # leave as floats."
   ]
  },
  {
   "cell_type": "code",
   "execution_count": 13,
   "metadata": {
    "scrolled": true
   },
   "outputs": [],
   "source": [
    "# from datetime import datetime\n",
    "# df['date'] = pd.to_datetime(df['date'], format=\"%m/%d/%Y\") \n",
    "# df_date_graph = df['date'].groupby([df.date.dt.month]).agg('count')\n",
    "# df_date_graph"
   ]
  },
  {
   "cell_type": "markdown",
   "metadata": {},
   "source": [
    "<a id=\"3.3\"></a>"
   ]
  },
  {
   "cell_type": "markdown",
   "metadata": {},
   "source": [
    "### 3.3 - Null Values, Duplicates, & Outliers"
   ]
  },
  {
   "cell_type": "markdown",
   "metadata": {},
   "source": [
    "**EXAMINE DUPLICATES**"
   ]
  },
  {
   "cell_type": "code",
   "execution_count": 14,
   "metadata": {
    "scrolled": true
   },
   "outputs": [],
   "source": [
    "# print('\\n *Duplicates* \\n')\n",
    "# duplicates = df[df.duplicated()]\n",
    "# print(len(duplicates))\n",
    "# print(duplicates)\n",
    "# #no duplicates?"
   ]
  },
  {
   "cell_type": "code",
   "execution_count": 15,
   "metadata": {},
   "outputs": [],
   "source": [
    "# df['id'].value_counts().head()\n",
    "# # Likely houses that were resold or re-inspected. \n",
    "# # They should not skew the data since a new grade would affect the price accordingly."
   ]
  },
  {
   "cell_type": "markdown",
   "metadata": {},
   "source": [
    "**EXAMINE OUTLIERS**"
   ]
  },
  {
   "cell_type": "code",
   "execution_count": 16,
   "metadata": {},
   "outputs": [],
   "source": [
    "# print('\\n *Bathrooms & Bedrooms* \\n')\n",
    "# df[['bedrooms', 'bathrooms']].plot(kind='box', vert=False, figsize=(16,4));"
   ]
  },
  {
   "cell_type": "code",
   "execution_count": 17,
   "metadata": {},
   "outputs": [],
   "source": [
    "# print('\\n *Sqft - Living, Above, Living15* \\n')\n",
    "# df[['sqft_living', 'sqft_above', 'sqft_living15']].plot(kind='box', vert=False, figsize=(16,4));"
   ]
  },
  {
   "cell_type": "code",
   "execution_count": 18,
   "metadata": {},
   "outputs": [],
   "source": [
    "# print('\\n *Sqft - Lot & Lot15* \\n')\n",
    "# df[['sqft_lot', 'sqft_lot15']].plot(kind='box', vert=False, figsize=(16,4));"
   ]
  },
  {
   "cell_type": "markdown",
   "metadata": {},
   "source": [
    "**DEAL WITH NULL VALUES**"
   ]
  },
  {
   "cell_type": "code",
   "execution_count": 19,
   "metadata": {
    "scrolled": true
   },
   "outputs": [],
   "source": [
    "# df.isna().sum()"
   ]
  },
  {
   "cell_type": "code",
   "execution_count": 20,
   "metadata": {},
   "outputs": [],
   "source": [
    "# print('\\n View - Unique Values:')\n",
    "# print(df.view.unique()) \n",
    "# print('\\n View - Value Counts:')\n",
    "# print(df.view.value_counts())\n",
    "# print('\\n View - Total NaN Values:')\n",
    "# print(df.view.isna().sum())"
   ]
  },
  {
   "cell_type": "code",
   "execution_count": 21,
   "metadata": {
    "scrolled": true
   },
   "outputs": [],
   "source": [
    "# print('\\n Replace NaN with \"0\":')\n",
    "# df.view.fillna(0, inplace=True)\n",
    "# print(df.view.unique())\n",
    "# print('\\n Type Change:')\n",
    "# df.view = df.view.astype('int64')\n",
    "# print(df.view.value_counts())"
   ]
  },
  {
   "cell_type": "code",
   "execution_count": 22,
   "metadata": {},
   "outputs": [],
   "source": [
    "# print('\\n Yr_Renovated:')\n",
    "# print(df.yr_renovated.value_counts().head(20))\n",
    "# print(df.yr_renovated.value_counts(normalize=True).head())\n",
    "# print(df.yr_renovated.isna().sum())\n"
   ]
  },
  {
   "cell_type": "code",
   "execution_count": 23,
   "metadata": {
    "scrolled": true
   },
   "outputs": [],
   "source": [
    "# # Categorize yr_renovated\n",
    "\n",
    "# cat = ['no_reno', 'before 1970', '1970-1979', '1980-1989', '1990-1999', '2000-2010', 'after 2010']\n",
    "# bins = [0., 1950., 1970., 1980., 1990., 2000., 2010., 2019.]\n",
    "# df['reno_year'] = pd.cut(df['yr_renovated'], bins, labels=cat, right=False)\n",
    "# df.reno_year.fillna('no_reno', inplace=True)\n",
    "\n",
    "# print('\\n Yr_Renovated Bins:')\n",
    "# print(df.reno_year.unique())\n",
    "# print(df.reno_year.value_counts())"
   ]
  },
  {
   "cell_type": "code",
   "execution_count": 24,
   "metadata": {},
   "outputs": [],
   "source": [
    "# df.reno_year.isna().sum()"
   ]
  },
  {
   "cell_type": "code",
   "execution_count": 25,
   "metadata": {},
   "outputs": [],
   "source": [
    "# reno_year = df['reno_year']\n",
    "# type(reno_year)\n",
    "\n"
   ]
  },
  {
   "cell_type": "code",
   "execution_count": 26,
   "metadata": {
    "scrolled": false
   },
   "outputs": [],
   "source": [
    "# df.info()"
   ]
  },
  {
   "cell_type": "markdown",
   "metadata": {},
   "source": [
    "<a id=\"3.4\"></a>"
   ]
  },
  {
   "cell_type": "markdown",
   "metadata": {},
   "source": [
    "### 3.4 - Feature Engineering"
   ]
  },
  {
   "cell_type": "markdown",
   "metadata": {},
   "source": [
    "> xx\n",
    "<br>xx\n",
    "<br>xx"
   ]
  },
  {
   "cell_type": "markdown",
   "metadata": {},
   "source": [
    "**TIME OF YEAR AND PRICE**"
   ]
  },
  {
   "cell_type": "code",
   "execution_count": 27,
   "metadata": {
    "scrolled": true
   },
   "outputs": [],
   "source": [
    "# df_date_graph = df['date'].groupby([df.date.dt.month]).agg('count')\n",
    "# df_date_graph"
   ]
  },
  {
   "cell_type": "code",
   "execution_count": 28,
   "metadata": {
    "scrolled": true
   },
   "outputs": [],
   "source": [
    "# import calendar\n",
    "# import datetime\n",
    " \n",
    "# month_num = 1\n",
    "# month_abre = datetime.date(2015, month_num, 1).strftime('%b')\n",
    "\n",
    "# calendar_list = [calendar.month_abbr[month_val] for month_val in range(1, 13)]\n",
    "\n",
    "# calendar_list"
   ]
  },
  {
   "cell_type": "code",
   "execution_count": 29,
   "metadata": {
    "scrolled": true
   },
   "outputs": [],
   "source": [
    "# sns.barplot(x=calendar_list, y=df_date_graph);"
   ]
  },
  {
   "cell_type": "markdown",
   "metadata": {},
   "source": [
    "**LOCATION AND PRICE**"
   ]
  },
  {
   "cell_type": "code",
   "execution_count": 30,
   "metadata": {
    "scrolled": true
   },
   "outputs": [],
   "source": [
    "# df_location = df[['price','zipcode','lat','long']]\n",
    "# df_location.head()"
   ]
  },
  {
   "cell_type": "markdown",
   "metadata": {},
   "source": [
    "<a id=\"Map\"></a>"
   ]
  },
  {
   "cell_type": "code",
   "execution_count": 31,
   "metadata": {
    "scrolled": false
   },
   "outputs": [],
   "source": [
    "# !pip install plotly --upgrade\n",
    "# import chart_studio\n",
    "# import plotly.graph_objects as go\n",
    "# import plotly\n",
    "# import pandas as pd\n",
    "\n",
    "# from plotly.offline import init_notebook_mode, iplot\n",
    "# init_notebook_mode(connected=True)     \n",
    "\n",
    "# import json\n",
    "\n",
    "# def get_mapbox(path):\n",
    "#     with open(path) as f:\n",
    "#         return json.load(f)\n",
    "\n",
    "# def get_cs_id(path):\n",
    "#     with open(path) as f:\n",
    "#         return json.load(f)\n",
    "\n",
    "# def get_cs_key(path):\n",
    "#     with open(path) as f:\n",
    "#         return json.load(f)\n",
    "\n",
    "# cs_key = get_cs_key(\"/Users/dmauger/.secret/chart_studio_key.json\")\n",
    "# cs_id = get_cs_id(\"/Users/dmauger/.secret/chart_studio_user.json\")\n",
    "# mapbox = get_mapbox(\"/Users/dmauger/.secret/mapbox_access.json\")\n",
    "\n",
    "# mapbox_access_token = mapbox[\"mapbox_access_token\"]\n",
    "# chart_studio.tools.set_credentials_file(username=cs_id[\"username\"], api_key=cs_key[\"api_key\"])\n",
    "\n",
    "# home_lat = df_location['lat']\n",
    "# home_lon = df_location['long']\n",
    "\n",
    "# data = [go.Scattermapbox(lat = home_lat, lon = home_lon,\n",
    "#                          mode = 'markers',\n",
    "#                          marker = dict(size = 2.55, opacity = 0.5, \n",
    "#                                        color = df['price'],\n",
    "#                                        colorbar = dict(title = 'Price (million)'),\n",
    "#                                        colorscale = [[0, \"rgb(166,206,227)\"],\n",
    "#                 [0.10, \"rgb(31,120,180)\"],\n",
    "#                 [0.15, \"rgb(251,154,153)\"],\n",
    "#                 [0.20, \"rgb(227,26,28)\"],\n",
    "#                 [0.50, \"rgb(178,223,138)\"],\n",
    "#                 [1, \"rgb(51,160,44)\"]]),\n",
    "#                          text = df['price'])]\n",
    "                      \n",
    "# layout = go.Layout(title = 'Home Prices in King County, WA',\n",
    "#                    autosize = True,\n",
    "#                    hovermode = 'closest',\n",
    "#                    showlegend = False,\n",
    "#                    mapbox = dict(accesstoken = mapbox_access_token,\n",
    "#                                  bearing = 0,\n",
    "#                                  center = dict(lat = 47.61, lon = -122.2),\n",
    "#                                  pitch = 0,\n",
    "#                                  zoom = 9.5,\n",
    "#                                  style = 'light'))\n",
    "\n",
    "# fig = dict(data = data, layout = layout)\n",
    "# iplot(fig)"
   ]
  },
  {
   "cell_type": "markdown",
   "metadata": {},
   "source": [
    "<a id=\"3.5\"></a>"
   ]
  },
  {
   "cell_type": "markdown",
   "metadata": {},
   "source": [
    "### 3.5 - Multicollinearity"
   ]
  },
  {
   "cell_type": "code",
   "execution_count": 32,
   "metadata": {},
   "outputs": [],
   "source": [
    "# print('\\n Correlation between Variables:')\n",
    "# df_pred = df.iloc[:,3:]\n",
    "# df_pred.corr()"
   ]
  },
  {
   "cell_type": "code",
   "execution_count": 33,
   "metadata": {},
   "outputs": [],
   "source": [
    "# print('\\n Measure of High Correlation:')\n",
    "# abs(df_pred.corr()>0.75)"
   ]
  },
  {
   "cell_type": "code",
   "execution_count": 34,
   "metadata": {},
   "outputs": [],
   "source": [
    "# print('\\n Heatmap of Correlation:')\n",
    "# ax, fig = plt.subplots(figsize = (15, 10))\n",
    "# sns.heatmap(df_pred.corr(), annot=True, cmap='RdBu')\n",
    "# plt.show() "
   ]
  },
  {
   "cell_type": "code",
   "execution_count": 35,
   "metadata": {
    "scrolled": true
   },
   "outputs": [],
   "source": [
    "# df = df.drop(columns=['sqft_above', 'sqft_living15'], axis=1)\n",
    "# # Drop highly-correlated variables; keep bathrooms for now because it seems meaningful in reality. \n",
    "\n",
    "# df = df.drop(columns=['id', 'date', 'zipcode', 'lat', 'long', 'yr_renovated', 'sqft_lot15'], axis=1)\n",
    "# # Can also drop columns that are separated into other datasets.\n",
    "\n",
    "# df.head()"
   ]
  },
  {
   "cell_type": "markdown",
   "metadata": {},
   "source": [
    "<a id=\"3.6\"></a>"
   ]
  },
  {
   "cell_type": "markdown",
   "metadata": {},
   "source": [
    "## 3.6 - Cleaned Dataset"
   ]
  },
  {
   "cell_type": "code",
   "execution_count": 36,
   "metadata": {},
   "outputs": [],
   "source": [
    "# print('\\n Overview of Clean Dataset:')\n",
    "# df = round(df,2)\n",
    "# df.head()"
   ]
  },
  {
   "cell_type": "code",
   "execution_count": 37,
   "metadata": {
    "scrolled": true
   },
   "outputs": [],
   "source": [
    "# df.info()"
   ]
  },
  {
   "cell_type": "markdown",
   "metadata": {},
   "source": [
    "<a id=\"004\"></a>"
   ]
  },
  {
   "cell_type": "markdown",
   "metadata": {},
   "source": [
    "## 4) Data Exploration & Plotting\n",
    "***"
   ]
  },
  {
   "cell_type": "markdown",
   "metadata": {},
   "source": [
    "### Overview of Patterns/Trends"
   ]
  },
  {
   "cell_type": "code",
   "execution_count": 38,
   "metadata": {},
   "outputs": [],
   "source": [
    "# col1 = ['floors', 'bedrooms', 'bathrooms', 'sqft_living', 'sqft_lot', 'price']\n",
    "# col2 = ['condition', 'grade', 'sqft_basement', 'yr_built', 'reno_year', 'price']"
   ]
  },
  {
   "cell_type": "code",
   "execution_count": 39,
   "metadata": {},
   "outputs": [],
   "source": [
    "# sns.pairplot(df[col1], diag_kind='kde');"
   ]
  },
  {
   "cell_type": "code",
   "execution_count": 40,
   "metadata": {},
   "outputs": [],
   "source": [
    "# sns.pairplot(df[col2], diag_kind='kde');"
   ]
  },
  {
   "cell_type": "code",
   "execution_count": 41,
   "metadata": {
    "scrolled": true
   },
   "outputs": [],
   "source": [
    "# df.hist(figsize=(20,15)); \n",
    "# # lacking normal distribution; need to standardize."
   ]
  },
  {
   "cell_type": "markdown",
   "metadata": {},
   "source": [
    "**Initial Observations**\n",
    "- xx\n",
    "- xx \n",
    "- xx"
   ]
  },
  {
   "cell_type": "markdown",
   "metadata": {},
   "source": [
    "### A Closer Look"
   ]
  },
  {
   "cell_type": "code",
   "execution_count": 42,
   "metadata": {
    "scrolled": true
   },
   "outputs": [],
   "source": [
    "# fig, ax = plt.subplots(figsize=(10,5))\n",
    "# sns.stripplot(x='floors', y='price', data=df);\n",
    "# plt.title('Price and View', fontweight='bold')\n",
    "# plt.show()"
   ]
  },
  {
   "cell_type": "code",
   "execution_count": 43,
   "metadata": {},
   "outputs": [],
   "source": [
    "# fig, ax = plt.subplots(figsize=(10,5))\n",
    "# sns.stripplot(x='view', y='price', data=df);\n",
    "# plt.title('Price and View', fontweight='bold')\n",
    "# plt.show()"
   ]
  },
  {
   "cell_type": "code",
   "execution_count": 44,
   "metadata": {
    "scrolled": true
   },
   "outputs": [],
   "source": [
    "# fig, ax = plt.subplots(figsize=(10,5))\n",
    "# sns.stripplot(x='grade', y='price', data=df)\n",
    "# plt.title('Price and Grade', fontweight='bold')\n",
    "# plt.show()"
   ]
  },
  {
   "cell_type": "code",
   "execution_count": 45,
   "metadata": {},
   "outputs": [],
   "source": [
    "# df_grade_revised = df['grade'].astype('int64')\n",
    "# df_price_revised = df['price']"
   ]
  },
  {
   "cell_type": "code",
   "execution_count": 46,
   "metadata": {},
   "outputs": [],
   "source": [
    "# sns.set_palette('muted')\n",
    "# fig, ax = plt.subplots(figsize=(10,5))\n",
    "# sns.regplot(x=df_grade_revised, y=df_price_revised)\n",
    "# plt.title('Price and Grade', fontweight='bold')\n",
    "# plt.show()"
   ]
  },
  {
   "cell_type": "code",
   "execution_count": 47,
   "metadata": {},
   "outputs": [],
   "source": [
    "# fig, ax = plt.subplots(figsize=(10,10))\n",
    "# sns.stripplot(x='sqft_living', y='price', data=df)\n",
    "# plt.title('Price and Sqft', fontweight='bold')\n",
    "# plt.show()"
   ]
  },
  {
   "cell_type": "code",
   "execution_count": 48,
   "metadata": {
    "scrolled": false
   },
   "outputs": [],
   "source": [
    "# sns.lmplot(x='bathrooms', y='price', data=df);\n",
    "# plt.title('Price and Bathrooms', fontweight='bold')\n",
    "# plt.show()"
   ]
  },
  {
   "cell_type": "code",
   "execution_count": 49,
   "metadata": {
    "scrolled": true
   },
   "outputs": [],
   "source": [
    "# sns.lmplot(x=\"sqft_living\", y=\"price\", data=df);\n",
    "# plt.title('Price and Sqft Living', fontweight='bold')\n",
    "# plt.show()"
   ]
  },
  {
   "cell_type": "markdown",
   "metadata": {},
   "source": [
    "<a id=\"005\"></a>"
   ]
  },
  {
   "cell_type": "markdown",
   "metadata": {},
   "source": [
    "<a id=\"005\"></a>"
   ]
  },
  {
   "cell_type": "markdown",
   "metadata": {},
   "source": [
    "## 5) Modeling Data\n",
    "***"
   ]
  },
  {
   "cell_type": "markdown",
   "metadata": {},
   "source": [
    "5.1 [Continuous Variables](#5.1)\n",
    "<br>5.2 [Categorical Variables](#5.2)\n",
    "<br>5.3 [Regression Models](#5.3)\n",
    "<br>5.4 [Model Fit](#5.4)\n",
    "<br>5.5 [Feature Selection](#5.5)\n",
    "<br>5.6 [Train/Test](#5.6)\n",
    "<br>5.7 [Model Validation](#5.7)"
   ]
  },
  {
   "cell_type": "markdown",
   "metadata": {},
   "source": [
    "<a id=\"5.1\"></a>"
   ]
  },
  {
   "cell_type": "markdown",
   "metadata": {},
   "source": [
    "### 5.1 Continuous Variables"
   ]
  },
  {
   "cell_type": "code",
   "execution_count": 50,
   "metadata": {},
   "outputs": [],
   "source": [
    "# from statsmodels.formula.api import ols"
   ]
  },
  {
   "cell_type": "code",
   "execution_count": 51,
   "metadata": {
    "scrolled": true
   },
   "outputs": [],
   "source": [
    "# outcome = 'price'\n",
    "# x_cols = ['sqft_living', 'sqft_basement', 'bedrooms', 'bathrooms', 'sqft_lot', 'floors', 'view', 'yr_built']\n",
    "# predictors = '+'.join(x_cols)\n",
    "# formula = outcome + '~' + predictors\n",
    "# model = ols(formula=formula, data=df).fit()\n",
    "# model.summary()"
   ]
  },
  {
   "cell_type": "code",
   "execution_count": 52,
   "metadata": {},
   "outputs": [],
   "source": [
    "# numbers_df = df[['sqft_living', 'sqft_lot', 'sqft_basement']]\n",
    "# numbers2_df = df[['bedrooms', 'bathrooms', 'floors', 'view', 'yr_built']]"
   ]
  },
  {
   "cell_type": "code",
   "execution_count": 53,
   "metadata": {},
   "outputs": [],
   "source": [
    "# from sklearn.preprocessing import MinMaxScaler\n",
    "# scaler = MinMaxScaler()\n",
    "# norm_numb = scaler.fit_transform(numbers_df)\n",
    "# scaled_numbers_df = pd.DataFrame(norm_numb, columns=['sqft_living', 'sqft_lot', 'sqft_basement'])"
   ]
  },
  {
   "cell_type": "code",
   "execution_count": 54,
   "metadata": {},
   "outputs": [],
   "source": [
    "# fig, axes = plt.subplots(nrows=1, ncols=3, figsize=(16,3))\n",
    "\n",
    "# for xcol, ax in zip(['sqft_living', 'sqft_lot', 'sqft_basement'], axes):\n",
    "#     df.plot(kind='scatter', x=xcol, y='price', ax=ax, alpha=0.4, color='b')"
   ]
  },
  {
   "cell_type": "code",
   "execution_count": 55,
   "metadata": {},
   "outputs": [],
   "source": [
    "# from sklearn.preprocessing import MinMaxScaler\n",
    "# scaler = MinMaxScaler()\n",
    "# norm_numb = scaler.fit_transform(numbers2_df)\n",
    "# scaled_numbers_df = pd.DataFrame(norm_numb, columns=['bedrooms', 'bathrooms', 'floors', 'view', 'yr_built'])"
   ]
  },
  {
   "cell_type": "code",
   "execution_count": 56,
   "metadata": {
    "scrolled": true
   },
   "outputs": [],
   "source": [
    "# fig, axes = plt.subplots(nrows=1, ncols=5, figsize=(16,3))\n",
    "\n",
    "# for xcol, ax in zip(['bedrooms', 'bathrooms', 'floors', 'view', 'yr_built'], axes):\n",
    "#     df.plot(kind='scatter', x=xcol, y='price', ax=ax, alpha=0.4, color='b')"
   ]
  },
  {
   "cell_type": "markdown",
   "metadata": {},
   "source": [
    "<a id=\"5.2\"></a>"
   ]
  },
  {
   "cell_type": "markdown",
   "metadata": {},
   "source": [
    "### 5.2 Categorical Variables\n"
   ]
  },
  {
   "cell_type": "code",
   "execution_count": 57,
   "metadata": {
    "scrolled": true
   },
   "outputs": [],
   "source": [
    "# sns.catplot(x=\"waterfront\", y=\"price\", data=df, height=4, aspect=2)\n",
    "# plt.title('\\nWaterfront vs. Price\\n', fontweight='bold')\n",
    "# plt.xlabel('Waterfront')\n",
    "# plt.ylabel('Price');"
   ]
  },
  {
   "cell_type": "code",
   "execution_count": 58,
   "metadata": {},
   "outputs": [],
   "source": [
    "# sns.catplot(x=\"grade\", y=\"price\", data=df, height=4, aspect=2)\n",
    "# plt.title('\\nGrade vs. Price\\n', fontweight='bold')\n",
    "# plt.xlabel('Grade')\n",
    "# plt.ylabel('Price');"
   ]
  },
  {
   "cell_type": "code",
   "execution_count": 59,
   "metadata": {},
   "outputs": [],
   "source": [
    "# sns.catplot(x=\"condition\", y=\"price\", data=df, height=4, aspect=2)\n",
    "# plt.title('\\nCondition vs. Price\\n', fontweight='bold')\n",
    "# plt.xlabel('Condition')\n",
    "# plt.ylabel('Price');"
   ]
  },
  {
   "cell_type": "code",
   "execution_count": 60,
   "metadata": {},
   "outputs": [],
   "source": [
    "# sns.catplot(x=\"reno_year\", y=\"price\", data=df, height=4, aspect=2)\n",
    "# plt.title('\\nRenovation vs. Price\\n', fontweight='bold')\n",
    "# plt.xlabel('Renovation')\n",
    "# plt.ylabel('Price');"
   ]
  },
  {
   "cell_type": "code",
   "execution_count": 61,
   "metadata": {
    "scrolled": true
   },
   "outputs": [],
   "source": [
    "# import pandas as pd\n",
    "# import matplotlib.pyplot as plt\n",
    "\n",
    "# fig, axes = plt.subplots(nrows=1, ncols=4, figsize=(16,3))\n",
    "\n",
    "# for xcol, ax in zip(['sqft_living', 'bedrooms', 'bathrooms', 'sqft_basement'], axes):\n",
    "#     df.plot(kind='scatter', x=xcol, y='price', ax=ax, alpha=0.4, color='b')"
   ]
  },
  {
   "cell_type": "markdown",
   "metadata": {},
   "source": [
    "**Create Dummy Variables**"
   ]
  },
  {
   "cell_type": "code",
   "execution_count": 62,
   "metadata": {},
   "outputs": [],
   "source": [
    "# df.waterfront = df.waterfront.astype('category')\n",
    "# df.condition = df.condition.astype('category')\n",
    "# df.grade = df.grade.astype('category')"
   ]
  },
  {
   "cell_type": "code",
   "execution_count": 63,
   "metadata": {},
   "outputs": [],
   "source": [
    "# waterfront_dum = pd.get_dummies(df['waterfront'], prefix='wat_front', drop_first=True)\n",
    "# condition_dum = pd.get_dummies(df['condition'], prefix='condition_dum', drop_first=True)\n",
    "# grade_dum = pd.get_dummies(df['grade'], prefix='grade_dum', drop_first=True)\n",
    "# reno_year_dum = pd.get_dummies(df['reno_year'], prefix='reno_yr', drop_first=True)"
   ]
  },
  {
   "cell_type": "code",
   "execution_count": 64,
   "metadata": {},
   "outputs": [],
   "source": [
    "# df = df.drop(['waterfront', 'condition', 'grade', 'reno_year'], axis=1)"
   ]
  },
  {
   "cell_type": "code",
   "execution_count": 65,
   "metadata": {},
   "outputs": [],
   "source": [
    "# df = pd.concat([df, waterfront_dum, condition_dum, grade_dum, reno_year_dum], axis=1)"
   ]
  },
  {
   "cell_type": "markdown",
   "metadata": {},
   "source": [
    "<a id=\"5.3\"></a>"
   ]
  },
  {
   "cell_type": "markdown",
   "metadata": {},
   "source": [
    "### 5.3 Regression Models"
   ]
  },
  {
   "cell_type": "markdown",
   "metadata": {},
   "source": [
    "#### Continous Variables Only"
   ]
  },
  {
   "cell_type": "code",
   "execution_count": 66,
   "metadata": {},
   "outputs": [],
   "source": [
    "# df_cont = df[['sqft_living', 'sqft_lot', 'sqft_basement','bedrooms', 'bathrooms', 'floors', 'view', 'yr_built']]\n",
    "# df_cat = df[['wat_front_1.0', 'wat_front_nan',\n",
    "#        'condition_dum_2', 'condition_dum_3', 'condition_dum_4',\n",
    "#        'condition_dum_5', 'grade_dum_11', 'grade_dum_12', 'grade_dum_13',\n",
    "#        'grade_dum_3', 'grade_dum_4', 'grade_dum_5', 'grade_dum_6',\n",
    "#        'grade_dum_7', 'grade_dum_8', 'grade_dum_9', 'reno_yr_before 1970',\n",
    "#        'reno_yr_1970-1979', 'reno_yr_1980-1989', 'reno_yr_1990-1999',\n",
    "#        'reno_yr_2000-2010', 'reno_yr_after 2010']]"
   ]
  },
  {
   "cell_type": "code",
   "execution_count": 67,
   "metadata": {},
   "outputs": [],
   "source": [
    "# from sklearn.linear_model import LinearRegression\n",
    "# import statsmodels.api as sm"
   ]
  },
  {
   "cell_type": "code",
   "execution_count": 68,
   "metadata": {
    "scrolled": true
   },
   "outputs": [],
   "source": [
    "# X = df_cont\n",
    "# y = df['price']\n",
    "# X = sm.add_constant(X)\n",
    "\n",
    "# model_cont = sm.OLS(y, X).fit()\n",
    "# prediction_cont = model_cont.predict(X)\n",
    "\n",
    "# model_cont.summary()"
   ]
  },
  {
   "cell_type": "markdown",
   "metadata": {},
   "source": [
    "#### Categorical Predictors Only"
   ]
  },
  {
   "cell_type": "code",
   "execution_count": 69,
   "metadata": {
    "scrolled": true
   },
   "outputs": [],
   "source": [
    "# X = df_cat\n",
    "# y = df['price']\n",
    "# X = sm.add_constant(X)\n",
    "\n",
    "# model_cat = sm.OLS(y, X).fit()\n",
    "# prediction_cat = model_cat.predict(X)\n",
    "\n",
    "# model_cat.summary()"
   ]
  },
  {
   "cell_type": "markdown",
   "metadata": {},
   "source": [
    "<a id=\"5.4\"></a>"
   ]
  },
  {
   "cell_type": "markdown",
   "metadata": {},
   "source": [
    "### 5.4 Model Fit and Validation"
   ]
  },
  {
   "cell_type": "code",
   "execution_count": 70,
   "metadata": {},
   "outputs": [],
   "source": [
    "# # Regression for continuous and categorical predictors. \n",
    "# predictors = df.drop(['price'], axis=1)\n",
    "# predictors.info()"
   ]
  },
  {
   "cell_type": "code",
   "execution_count": 71,
   "metadata": {
    "scrolled": true
   },
   "outputs": [],
   "source": [
    "# predictors = sm.add_constant(predictors)\n",
    "# model = sm.OLS(df['price'],predictors).fit()\n",
    "# model.summary()"
   ]
  },
  {
   "cell_type": "markdown",
   "metadata": {},
   "source": [
    "<a id=\"5.5\"></a>"
   ]
  },
  {
   "cell_type": "markdown",
   "metadata": {},
   "source": [
    "### 5.5 Feature Selection "
   ]
  },
  {
   "cell_type": "code",
   "execution_count": 72,
   "metadata": {},
   "outputs": [],
   "source": [
    "# import statsmodels.api as sm\n",
    "\n",
    "# def stepwise_selection(X, y, \n",
    "#                        initial_list=[], \n",
    "#                        threshold_in=0.01, \n",
    "#                        threshold_out = 0.05, \n",
    "#                        verbose=True):\n",
    "#     \"\"\" Perform a forward-backward feature selection \n",
    "#     based on p-value from statsmodels.api.OLS\n",
    "#     Arguments:\n",
    "#         X - pandas.DataFrame with candidate features\n",
    "#         y - list-like with the target\n",
    "#         initial_list - list of features to start with (column names of X)\n",
    "#         threshold_in - include a feature if its p-value < threshold_in\n",
    "#         threshold_out - exclude a feature if its p-value > threshold_out\n",
    "#         verbose - whether to print the sequence of inclusions and exclusions\n",
    "#     Returns: list of selected features \n",
    "#     Always set threshold_in < threshold_out to avoid infinite looping.\n",
    "#     See https://en.wikipedia.org/wiki/Stepwise_regression for the details\n",
    "#     \"\"\"\n",
    "#     included = list(initial_list)\n",
    "#     while True:\n",
    "#         changed=False\n",
    "#         # forward step\n",
    "#         excluded = list(set(X.columns)-set(included))\n",
    "#         new_pval = pd.Series(index=excluded)\n",
    "#         for new_column in excluded:\n",
    "#             model = sm.OLS(y, sm.add_constant(pd.DataFrame(X[included+[new_column]]))).fit()\n",
    "#             new_pval[new_column] = model.pvalues[new_column]\n",
    "#         best_pval = new_pval.min()\n",
    "#         if best_pval < threshold_in:\n",
    "#             best_feature = new_pval.idxmin()\n",
    "#             included.append(best_feature)\n",
    "#             changed=True\n",
    "#             if verbose:\n",
    "#                 print('Add  {:30} with p-value {:.6}'.format(best_feature, best_pval))\n",
    "\n",
    "#         # backward step\n",
    "#         model = sm.OLS(y, sm.add_constant(pd.DataFrame(X[included]))).fit()\n",
    "#         # use all coefs except intercept\n",
    "#         pvalues = model.pvalues.iloc[1:]\n",
    "#         worst_pval = pvalues.max() # null if pvalues is empty\n",
    "#         if worst_pval > threshold_out:\n",
    "#             changed=True\n",
    "#             worst_feature = pvalues.argmax()\n",
    "#             included.remove(worst_feature)\n",
    "#             if verbose:\n",
    "#                 print('Drop {:30} with p-value {:.6}'.format(worst_feature, worst_pval))\n",
    "#         if not changed:\n",
    "#             break\n",
    "#     return included### Feature Selection"
   ]
  },
  {
   "cell_type": "code",
   "execution_count": 73,
   "metadata": {},
   "outputs": [],
   "source": [
    "# result = stepwise_selection(predictors, df[\"price\"], verbose = True)\n",
    "# print('resulting features:')\n",
    "# print(result)"
   ]
  },
  {
   "cell_type": "code",
   "execution_count": 74,
   "metadata": {},
   "outputs": [],
   "source": [
    "# from sklearn.feature_selection import RFE\n",
    "# from sklearn.linear_model import LinearRegression\n",
    "\n",
    "# X = predictors\n",
    "# y = df['price']\n",
    "\n",
    "# linreg = LinearRegression()\n",
    "# selector = RFE(linreg, n_features_to_select = 20)\n",
    "# selector = selector.fit(predictors, df[\"price\"])"
   ]
  },
  {
   "cell_type": "code",
   "execution_count": 75,
   "metadata": {},
   "outputs": [],
   "source": [
    "# selector.support_\n",
    "# selector.ranking_\n",
    "# estimators = selector.estimator_\n",
    "\n",
    "# print('\\n Coefficients:')\n",
    "# print(estimators.coef_)\n",
    "# print('\\n Intercept:')\n",
    "# print(estimators.intercept_)"
   ]
  },
  {
   "cell_type": "code",
   "execution_count": 76,
   "metadata": {},
   "outputs": [],
   "source": [
    "# new_columns = X.columns[selector.support_]\n",
    "# linreg.fit(X[new_columns], y);"
   ]
  },
  {
   "cell_type": "code",
   "execution_count": 77,
   "metadata": {},
   "outputs": [],
   "source": [
    "# print('\\nSelected Predictors:')\n",
    "# print(new_columns)"
   ]
  },
  {
   "cell_type": "code",
   "execution_count": 78,
   "metadata": {},
   "outputs": [],
   "source": [
    "# y_hat = linreg.predict(X[new_columns])"
   ]
  },
  {
   "cell_type": "code",
   "execution_count": 79,
   "metadata": {},
   "outputs": [],
   "source": [
    "# SSR = np.sum((y - y_hat)**2)\n",
    "# SST = np.sum((y - np.mean(y))**2)\n",
    "# Rsq = 1 - (float(SSR)) / SST\n",
    "# Rsq_adj = 1 - (1 - Rsq)*(len(y)-1)/(len(y) - X[new_columns].shape[1] - 1)"
   ]
  },
  {
   "cell_type": "code",
   "execution_count": 80,
   "metadata": {
    "scrolled": true
   },
   "outputs": [],
   "source": [
    "# print('SSR:', SSR)\n",
    "# print('\\nSST:', SST)\n",
    "# print('\\nRsq:', Rsq)\n",
    "# print('\\nRsq Adj:', Rsq_adj)"
   ]
  },
  {
   "cell_type": "markdown",
   "metadata": {},
   "source": [
    "<a id=\"5.6\"></a>"
   ]
  },
  {
   "cell_type": "markdown",
   "metadata": {},
   "source": [
    "### 5.6 Train/Test Data"
   ]
  },
  {
   "cell_type": "code",
   "execution_count": 81,
   "metadata": {},
   "outputs": [],
   "source": [
    "# from sklearn.model_selection import train_test_split"
   ]
  },
  {
   "cell_type": "code",
   "execution_count": 82,
   "metadata": {},
   "outputs": [],
   "source": [
    "# test_col = ['grade_dum_11', 'grade_dum_7', 'grade_dum_6', 'wat_front_1.0', 'sqft_living', 'yr_built', 'grade_dum_12', 'grade_dum_13', 'grade_dum_8', 'grade_dum_5', 'grade_dum_9', 'view', 'bathrooms', 'grade_dum_4', 'bedrooms', 'floors', 'condition_dum_5', 'reno_yr_2000-2010', 'sqft_lot', 'sqft_basement', 'condition_dum_4', 'reno_yr_after 2010', 'grade_dum_3']\n",
    "# X = df[test_col]\n",
    "# y = df.price"
   ]
  },
  {
   "cell_type": "code",
   "execution_count": 83,
   "metadata": {},
   "outputs": [],
   "source": [
    "# X_train, X_test, y_train, y_test = train_test_split(X, y, test_size=0.2, random_state=42)\n",
    "# print (X_train.shape, y_train.shape)\n",
    "# print (X_test.shape, y_test.shape)"
   ]
  },
  {
   "cell_type": "code",
   "execution_count": 84,
   "metadata": {},
   "outputs": [],
   "source": [
    "# from sklearn.linear_model import LinearRegression\n",
    "# linreg = LinearRegression()\n",
    "# linreg.fit(X_train, y_train)\n",
    "\n",
    "# y_hat_train = linreg.predict(X_train)\n",
    "# y_hat_test = linreg.predict(X_test)"
   ]
  },
  {
   "cell_type": "code",
   "execution_count": 85,
   "metadata": {},
   "outputs": [],
   "source": [
    "# train_residuals = y_hat_train - y_train\n",
    "# test_residuals = y_hat_test - y_test"
   ]
  },
  {
   "cell_type": "code",
   "execution_count": 86,
   "metadata": {},
   "outputs": [],
   "source": [
    "# from sklearn.metrics import mean_squared_error\n",
    "\n",
    "# train_mse = mean_squared_error(y_train, y_hat_train)\n",
    "# test_mse = mean_squared_error(y_test, y_hat_test)\n",
    "# print('Train Mean Squarred Error:', train_mse)\n",
    "# print('Test Mean Squarred Error:', test_mse)"
   ]
  },
  {
   "cell_type": "code",
   "execution_count": 87,
   "metadata": {},
   "outputs": [],
   "source": [
    "# model = LinearRegression()\n",
    "# model.fit(X_train, y_train)\n",
    "\n",
    "# print(\"Estimated R²:\")\n",
    "# print(linreg.score(X,y))\n",
    "\n",
    "# pd.DataFrame(list(zip(test_col, linreg.coef_)), columns=['Features', 'Coefficient'])"
   ]
  },
  {
   "cell_type": "code",
   "execution_count": 88,
   "metadata": {},
   "outputs": [],
   "source": [
    "# from sklearn import linear_model"
   ]
  },
  {
   "cell_type": "code",
   "execution_count": 89,
   "metadata": {},
   "outputs": [],
   "source": [
    "# lm = linear_model.LinearRegression()\n",
    "# model = lm.fit(X_train, y_train)\n",
    "# predictions = lm.predict(X_test)"
   ]
  },
  {
   "cell_type": "code",
   "execution_count": 90,
   "metadata": {},
   "outputs": [],
   "source": [
    "# print ('Test Data - R2 Score:', model.score(X_test, y_test))  \n",
    "# print ('Train Data - R2 Score:', model.score(X_train, y_train)) "
   ]
  },
  {
   "cell_type": "code",
   "execution_count": 91,
   "metadata": {
    "scrolled": true
   },
   "outputs": [],
   "source": [
    "# y_pred_test = lm.predict(X_test)\n",
    "\n",
    "# fig, ax = plt.subplots(1,2, figsize=(20, 6))\n",
    "\n",
    "# # Test Data vs Actual Data\n",
    "# ax1 = fig.add_subplot(121)\n",
    "# ax1.scatter(y_test, y_pred_test, marker='.', c='navy')\n",
    "# ax1.set_xlabel(\"\\nActual Prices\")\n",
    "# ax1.set_ylabel(\"Predicted Prices\\n\")\n",
    "# ax1.set_title(\"\\nPrice Comparison in Test Set\\n\", size=14, weight='bold')\n",
    "\n",
    "# y_pred_train = lm.predict(X_train)\n",
    "\n",
    "# # Train Data vs Actual Data\n",
    "# ax2 = fig.add_subplot(122)\n",
    "# ax2.scatter(y_train, y_pred_train, marker='.', c='green')\n",
    "# ax2.set_xlabel(\"\\nActual Prices\")\n",
    "# ax2.set_ylabel(\"Predicted Prices\\n\")\n",
    "# ax2.set_title(\"\\nPrice Comparison in Train Set\\n\", size=14, weight='bold');"
   ]
  },
  {
   "cell_type": "markdown",
   "metadata": {},
   "source": [
    "<a id=\"5.7\"></a>"
   ]
  },
  {
   "cell_type": "markdown",
   "metadata": {},
   "source": [
    "### 5.7 K-Fold Cross Validation "
   ]
  },
  {
   "cell_type": "code",
   "execution_count": 92,
   "metadata": {},
   "outputs": [],
   "source": [
    "# from sklearn.metrics import mean_squared_error\n",
    "# from sklearn.model_selection import cross_val_score\n",
    "# from sklearn.linear_model import LinearRegression\n",
    "# linreg = LinearRegression()\n",
    "\n",
    "# cv_5_results = np.mean(cross_val_score(model, X, y, cv=5, scoring=\"r2\"))\n",
    "# cv_10_results = np.mean(cross_val_score(model, X, y, cv=10, scoring='r2'))\n",
    "# cv_20_results = np.mean(cross_val_score(model, X, y, cv=20, scoring=\"r2\"))\n",
    "\n",
    "# print(cv_5_results)\n",
    "# print(cv_10_results)\n",
    "# print(cv_20_results)"
   ]
  },
  {
   "cell_type": "code",
   "execution_count": 93,
   "metadata": {},
   "outputs": [],
   "source": [
    "# mse_5_results = np.mean(cross_val_score(model, X, y, cv=5, scoring=\"neg_mean_squared_error\"))\n",
    "# mse_10_results = np.mean(cross_val_score(model, X, y, cv=10, scoring=\"neg_mean_squared_error\"))\n",
    "# mse_20_results = np.mean(cross_val_score(model, X, y, cv=20, scoring=\"neg_mean_squared_error\"))\n",
    "\n",
    "# print(mse_5_results)\n",
    "# print(mse_10_results)\n",
    "# print(mse_20_results)"
   ]
  },
  {
   "cell_type": "markdown",
   "metadata": {},
   "source": [
    "<a id=\"006\"></a>"
   ]
  },
  {
   "cell_type": "markdown",
   "metadata": {},
   "source": [
    "## 6) Interpreting Data\n",
    "***"
   ]
  },
  {
   "cell_type": "markdown",
   "metadata": {},
   "source": [
    "### Revisiting Initial Questions:\n",
    "> 1) xx\n",
    "<br> 2) xx\n",
    "<br> 3) xx\n",
    "<br>"
   ]
  },
  {
   "cell_type": "markdown",
   "metadata": {},
   "source": [
    "1) xx"
   ]
  },
  {
   "cell_type": "markdown",
   "metadata": {},
   "source": [
    "2) xx"
   ]
  },
  {
   "cell_type": "markdown",
   "metadata": {},
   "source": [
    "3) xx"
   ]
  }
 ],
 "metadata": {
  "kernelspec": {
   "display_name": "Python [conda env:learn-env] *",
   "language": "python",
   "name": "conda-env-learn-env-py"
  },
  "language_info": {
   "codemirror_mode": {
    "name": "ipython",
    "version": 3
   },
   "file_extension": ".py",
   "mimetype": "text/x-python",
   "name": "python",
   "nbconvert_exporter": "python",
   "pygments_lexer": "ipython3",
   "version": "3.6.6"
  },
  "varInspector": {
   "cols": {
    "lenName": 16,
    "lenType": 16,
    "lenVar": 40
   },
   "kernels_config": {
    "python": {
     "delete_cmd_postfix": "",
     "delete_cmd_prefix": "del ",
     "library": "var_list.py",
     "varRefreshCmd": "print(var_dic_list())"
    },
    "r": {
     "delete_cmd_postfix": ") ",
     "delete_cmd_prefix": "rm(",
     "library": "var_list.r",
     "varRefreshCmd": "cat(var_dic_list()) "
    }
   },
   "types_to_exclude": [
    "module",
    "function",
    "builtin_function_or_method",
    "instance",
    "_Feature"
   ],
   "window_display": false
  }
 },
 "nbformat": 4,
 "nbformat_minor": 4
}
