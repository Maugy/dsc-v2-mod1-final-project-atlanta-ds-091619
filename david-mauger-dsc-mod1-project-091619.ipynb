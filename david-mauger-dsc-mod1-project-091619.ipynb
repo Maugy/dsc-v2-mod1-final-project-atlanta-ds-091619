{
 "cells": [
  {
   "cell_type": "markdown",
   "metadata": {},
   "source": [
    "# Final Project Submission - Module 1\n",
    "\n",
    "<br> David Mauger\n",
    "<br> Data Science - Full Time Immersive\n",
    "<br> Oct 4, 2019\n",
    "<br> Howard Smith & Amanda Yandow\n",
    "<br> https://github.com/Maugy"
   ]
  },
  {
   "cell_type": "markdown",
   "metadata": {},
   "source": [
    "# Project: House Prices in Kings County, WA"
   ]
  },
  {
   "cell_type": "markdown",
   "metadata": {},
   "source": [
    "## Overview\n",
    "1. [Objective & Background](#001)\n",
    "2. [Obtaining Data](#002)\n",
    "3. [Scrubbing Data](#003)\n",
    "4. [Exploring Data](#004)\n",
    "5. [Modeling Data](#005)\n",
    "6. [Interpreting Data](#006)\n"
   ]
  },
  {
   "cell_type": "markdown",
   "metadata": {},
   "source": [
    "<a id=\"001\"></a>"
   ]
  },
  {
   "cell_type": "markdown",
   "metadata": {},
   "source": [
    "## 1) Objective & Background\n",
    "***\n",
    "Clean, explore, and model the dataset with a multivariate linear regression to predict the sale price of houses as accurately as possible."
   ]
  },
  {
   "cell_type": "markdown",
   "metadata": {},
   "source": [
    "**1.1 Questions to Answer:**\n",
    "> 1) Does location affect the sale price of houses in Kings County?\n",
    "<br> 2) Does time of year affect the sale price of houses in Kings County?\n",
    "<br> 3) What feature(s) most significantly affect the sale prices of houses in Kings County?\n",
    "<br>"
   ]
  },
  {
   "cell_type": "markdown",
   "metadata": {},
   "source": [
    "**1.2 Data Provided:** \n",
    ">**Column Names and Descriptions for Kings County Data Set**\n",
    "* **id** - unique identified for a house\n",
    "* **dateDate** - house was sold DM-date/time\n",
    "* **pricePrice** -  is prediction target\n",
    "* **bedroomsNumber** -  of Bedrooms/House\n",
    "* **bathroomsNumber** -  of bathrooms/bedrooms\n",
    "* **sqft_livingsquare** -  footage of the home\n",
    "* **sqft_lotsquare** -  footage of the lot\n",
    "* **floorsTotal** -  floors (levels) in house\n",
    "* **waterfront** - House which has a view to a waterfront\n",
    "* **view** - Has been viewed\n",
    "* **condition** - How good the condition is ( Overall )\n",
    "* **grade** - overall grade given to the housing unit, based on King County grading system\n",
    "* **sqft_above** - square footage of house apart from basement\n",
    "* **sqft_basement** - square footage of the basement\n",
    "* **yr_built** - Built Year\n",
    "* **yr_renovated** - Year when house was renovated\n",
    "* **zipcode** - zip\n",
    "* **lat** - Latitude coordinate\n",
    "* **long** - Longitude coordinate\n",
    "* **sqft_living15** - The square footage of interior housing living space for the nearest 15 neighbors\n",
    "* **sqft_lot15** - The square footage of the land lots of the nearest 15 neighbors"
   ]
  },
  {
   "cell_type": "markdown",
   "metadata": {},
   "source": [
    "**1.3 Methodology**\n",
    "> OSEMN Process\n",
    ">    - Obtain Data\n",
    ">    - Scrub Data\n",
    ">    - Explore Data\n",
    ">    - Model Data\n",
    ">    - Interpret Data"
   ]
  },
  {
   "cell_type": "markdown",
   "metadata": {},
   "source": [
    "<a id=\"002\"></a>"
   ]
  },
  {
   "cell_type": "markdown",
   "metadata": {},
   "source": [
    "## 2) Obtaining Data\n",
    "***"
   ]
  },
  {
   "cell_type": "code",
   "execution_count": 1,
   "metadata": {},
   "outputs": [],
   "source": [
    "import pandas as pd\n",
    "import matplotlib.pyplot as plt \n",
    "import seaborn as sns\n",
    "import numpy as np\n",
    "%matplotlib inline\n",
    "sns.set_style('darkgrid')\n",
    "sns.set_palette('husl')\n",
    "plt.style.use('ggplot')\n",
    "\n",
    "import warnings\n",
    "warnings.filterwarnings('ignore')\n",
    "\n",
    "df = pd.read_csv('kc_house_data-copy1.csv')"
   ]
  },
  {
   "cell_type": "markdown",
   "metadata": {},
   "source": [
    "<a id=\"003\"></a>"
   ]
  },
  {
   "cell_type": "markdown",
   "metadata": {},
   "source": [
    "## 3)  Scrubbing Data\n",
    "***\n"
   ]
  },
  {
   "cell_type": "markdown",
   "metadata": {},
   "source": [
    "**3.1** - [Data Observations](#3.1) \n",
    "<br>**3.2** - [Categorical Data & Datatypes](#3.2) \n",
    "<br>**3.3** - [Null Values](#3.3) \n",
    "<br>**3.4** - [Feature Engineering](#3.4)\n",
    "<br>**3.5** - [Multicollinearity](#3.5) \n",
    "<br>**3.6** - [Cleaned Dataset](#3.6)\n",
    "<br>\n",
    "<br>\n",
    "<br>"
   ]
  },
  {
   "cell_type": "markdown",
   "metadata": {},
   "source": [
    "<a id=\"3.1\"></a>"
   ]
  },
  {
   "cell_type": "markdown",
   "metadata": {},
   "source": [
    "### 3.1 - Data Observations"
   ]
  },
  {
   "cell_type": "code",
   "execution_count": 2,
   "metadata": {
    "scrolled": true
   },
   "outputs": [
    {
     "data": {
      "text/html": [
       "<div>\n",
       "<style scoped>\n",
       "    .dataframe tbody tr th:only-of-type {\n",
       "        vertical-align: middle;\n",
       "    }\n",
       "\n",
       "    .dataframe tbody tr th {\n",
       "        vertical-align: top;\n",
       "    }\n",
       "\n",
       "    .dataframe thead th {\n",
       "        text-align: right;\n",
       "    }\n",
       "</style>\n",
       "<table border=\"1\" class=\"dataframe\">\n",
       "  <thead>\n",
       "    <tr style=\"text-align: right;\">\n",
       "      <th></th>\n",
       "      <th>id</th>\n",
       "      <th>date</th>\n",
       "      <th>price</th>\n",
       "      <th>bedrooms</th>\n",
       "      <th>bathrooms</th>\n",
       "      <th>sqft_living</th>\n",
       "      <th>sqft_lot</th>\n",
       "      <th>floors</th>\n",
       "      <th>waterfront</th>\n",
       "      <th>view</th>\n",
       "      <th>...</th>\n",
       "      <th>grade</th>\n",
       "      <th>sqft_above</th>\n",
       "      <th>sqft_basement</th>\n",
       "      <th>yr_built</th>\n",
       "      <th>yr_renovated</th>\n",
       "      <th>zipcode</th>\n",
       "      <th>lat</th>\n",
       "      <th>long</th>\n",
       "      <th>sqft_living15</th>\n",
       "      <th>sqft_lot15</th>\n",
       "    </tr>\n",
       "  </thead>\n",
       "  <tbody>\n",
       "    <tr>\n",
       "      <th>0</th>\n",
       "      <td>7129300520</td>\n",
       "      <td>10/13/2014</td>\n",
       "      <td>221900.0</td>\n",
       "      <td>3</td>\n",
       "      <td>1.00</td>\n",
       "      <td>1180</td>\n",
       "      <td>5650</td>\n",
       "      <td>1.0</td>\n",
       "      <td>NaN</td>\n",
       "      <td>0.0</td>\n",
       "      <td>...</td>\n",
       "      <td>7</td>\n",
       "      <td>1180</td>\n",
       "      <td>0.0</td>\n",
       "      <td>1955</td>\n",
       "      <td>0.0</td>\n",
       "      <td>98178</td>\n",
       "      <td>47.5112</td>\n",
       "      <td>-122.257</td>\n",
       "      <td>1340</td>\n",
       "      <td>5650</td>\n",
       "    </tr>\n",
       "    <tr>\n",
       "      <th>1</th>\n",
       "      <td>6414100192</td>\n",
       "      <td>12/9/2014</td>\n",
       "      <td>538000.0</td>\n",
       "      <td>3</td>\n",
       "      <td>2.25</td>\n",
       "      <td>2570</td>\n",
       "      <td>7242</td>\n",
       "      <td>2.0</td>\n",
       "      <td>0.0</td>\n",
       "      <td>0.0</td>\n",
       "      <td>...</td>\n",
       "      <td>7</td>\n",
       "      <td>2170</td>\n",
       "      <td>400.0</td>\n",
       "      <td>1951</td>\n",
       "      <td>1991.0</td>\n",
       "      <td>98125</td>\n",
       "      <td>47.7210</td>\n",
       "      <td>-122.319</td>\n",
       "      <td>1690</td>\n",
       "      <td>7639</td>\n",
       "    </tr>\n",
       "    <tr>\n",
       "      <th>2</th>\n",
       "      <td>5631500400</td>\n",
       "      <td>2/25/2015</td>\n",
       "      <td>180000.0</td>\n",
       "      <td>2</td>\n",
       "      <td>1.00</td>\n",
       "      <td>770</td>\n",
       "      <td>10000</td>\n",
       "      <td>1.0</td>\n",
       "      <td>0.0</td>\n",
       "      <td>0.0</td>\n",
       "      <td>...</td>\n",
       "      <td>6</td>\n",
       "      <td>770</td>\n",
       "      <td>0.0</td>\n",
       "      <td>1933</td>\n",
       "      <td>NaN</td>\n",
       "      <td>98028</td>\n",
       "      <td>47.7379</td>\n",
       "      <td>-122.233</td>\n",
       "      <td>2720</td>\n",
       "      <td>8062</td>\n",
       "    </tr>\n",
       "    <tr>\n",
       "      <th>3</th>\n",
       "      <td>2487200875</td>\n",
       "      <td>12/9/2014</td>\n",
       "      <td>604000.0</td>\n",
       "      <td>4</td>\n",
       "      <td>3.00</td>\n",
       "      <td>1960</td>\n",
       "      <td>5000</td>\n",
       "      <td>1.0</td>\n",
       "      <td>0.0</td>\n",
       "      <td>0.0</td>\n",
       "      <td>...</td>\n",
       "      <td>7</td>\n",
       "      <td>1050</td>\n",
       "      <td>910.0</td>\n",
       "      <td>1965</td>\n",
       "      <td>0.0</td>\n",
       "      <td>98136</td>\n",
       "      <td>47.5208</td>\n",
       "      <td>-122.393</td>\n",
       "      <td>1360</td>\n",
       "      <td>5000</td>\n",
       "    </tr>\n",
       "    <tr>\n",
       "      <th>4</th>\n",
       "      <td>1954400510</td>\n",
       "      <td>2/18/2015</td>\n",
       "      <td>510000.0</td>\n",
       "      <td>3</td>\n",
       "      <td>2.00</td>\n",
       "      <td>1680</td>\n",
       "      <td>8080</td>\n",
       "      <td>1.0</td>\n",
       "      <td>0.0</td>\n",
       "      <td>0.0</td>\n",
       "      <td>...</td>\n",
       "      <td>8</td>\n",
       "      <td>1680</td>\n",
       "      <td>0.0</td>\n",
       "      <td>1987</td>\n",
       "      <td>0.0</td>\n",
       "      <td>98074</td>\n",
       "      <td>47.6168</td>\n",
       "      <td>-122.045</td>\n",
       "      <td>1800</td>\n",
       "      <td>7503</td>\n",
       "    </tr>\n",
       "  </tbody>\n",
       "</table>\n",
       "<p>5 rows × 21 columns</p>\n",
       "</div>"
      ],
      "text/plain": [
       "           id        date     price  bedrooms  bathrooms  sqft_living  \\\n",
       "0  7129300520  10/13/2014  221900.0         3       1.00         1180   \n",
       "1  6414100192   12/9/2014  538000.0         3       2.25         2570   \n",
       "2  5631500400   2/25/2015  180000.0         2       1.00          770   \n",
       "3  2487200875   12/9/2014  604000.0         4       3.00         1960   \n",
       "4  1954400510   2/18/2015  510000.0         3       2.00         1680   \n",
       "\n",
       "   sqft_lot  floors  waterfront  view  ...  grade  sqft_above  sqft_basement  \\\n",
       "0      5650     1.0         NaN   0.0  ...      7        1180            0.0   \n",
       "1      7242     2.0         0.0   0.0  ...      7        2170          400.0   \n",
       "2     10000     1.0         0.0   0.0  ...      6         770            0.0   \n",
       "3      5000     1.0         0.0   0.0  ...      7        1050          910.0   \n",
       "4      8080     1.0         0.0   0.0  ...      8        1680            0.0   \n",
       "\n",
       "  yr_built  yr_renovated  zipcode      lat     long  sqft_living15  sqft_lot15  \n",
       "0     1955           0.0    98178  47.5112 -122.257           1340        5650  \n",
       "1     1951        1991.0    98125  47.7210 -122.319           1690        7639  \n",
       "2     1933           NaN    98028  47.7379 -122.233           2720        8062  \n",
       "3     1965           0.0    98136  47.5208 -122.393           1360        5000  \n",
       "4     1987           0.0    98074  47.6168 -122.045           1800        7503  \n",
       "\n",
       "[5 rows x 21 columns]"
      ]
     },
     "execution_count": 2,
     "metadata": {},
     "output_type": "execute_result"
    }
   ],
   "source": [
    "df.head()"
   ]
  },
  {
   "cell_type": "code",
   "execution_count": 3,
   "metadata": {},
   "outputs": [
    {
     "name": "stdout",
     "output_type": "stream",
     "text": [
      "\n",
      " *Data Shape* \n",
      " (21597, 21)\n",
      "\n",
      " *Data Types* \n",
      "\n",
      "id                 int64\n",
      "date              object\n",
      "price            float64\n",
      "bedrooms           int64\n",
      "bathrooms        float64\n",
      "sqft_living        int64\n",
      "sqft_lot           int64\n",
      "floors           float64\n",
      "waterfront       float64\n",
      "view             float64\n",
      "condition          int64\n",
      "grade              int64\n",
      "sqft_above         int64\n",
      "sqft_basement     object\n",
      "yr_built           int64\n",
      "yr_renovated     float64\n",
      "zipcode            int64\n",
      "lat              float64\n",
      "long             float64\n",
      "sqft_living15      int64\n",
      "sqft_lot15         int64\n",
      "dtype: object\n"
     ]
    }
   ],
   "source": [
    "print('\\n *Data Shape* \\n', df.shape)\n",
    "print('\\n *Data Types* \\n')\n",
    "print(df.dtypes)\n"
   ]
  },
  {
   "cell_type": "code",
   "execution_count": 4,
   "metadata": {},
   "outputs": [
    {
     "name": "stdout",
     "output_type": "stream",
     "text": [
      "\n",
      " *Data Info* \n",
      "\n",
      "<class 'pandas.core.frame.DataFrame'>\n",
      "RangeIndex: 21597 entries, 0 to 21596\n",
      "Data columns (total 21 columns):\n",
      "id               21597 non-null int64\n",
      "date             21597 non-null object\n",
      "price            21597 non-null float64\n",
      "bedrooms         21597 non-null int64\n",
      "bathrooms        21597 non-null float64\n",
      "sqft_living      21597 non-null int64\n",
      "sqft_lot         21597 non-null int64\n",
      "floors           21597 non-null float64\n",
      "waterfront       19221 non-null float64\n",
      "view             21534 non-null float64\n",
      "condition        21597 non-null int64\n",
      "grade            21597 non-null int64\n",
      "sqft_above       21597 non-null int64\n",
      "sqft_basement    21597 non-null object\n",
      "yr_built         21597 non-null int64\n",
      "yr_renovated     17755 non-null float64\n",
      "zipcode          21597 non-null int64\n",
      "lat              21597 non-null float64\n",
      "long             21597 non-null float64\n",
      "sqft_living15    21597 non-null int64\n",
      "sqft_lot15       21597 non-null int64\n",
      "dtypes: float64(8), int64(11), object(2)\n",
      "memory usage: 3.5+ MB\n"
     ]
    }
   ],
   "source": [
    "print('\\n *Data Info* \\n')\n",
    "df.info()"
   ]
  },
  {
   "cell_type": "code",
   "execution_count": 5,
   "metadata": {
    "scrolled": false
   },
   "outputs": [
    {
     "name": "stdout",
     "output_type": "stream",
     "text": [
      "\n",
      " *Data Description* \n",
      "\n"
     ]
    },
    {
     "data": {
      "text/html": [
       "<div>\n",
       "<style scoped>\n",
       "    .dataframe tbody tr th:only-of-type {\n",
       "        vertical-align: middle;\n",
       "    }\n",
       "\n",
       "    .dataframe tbody tr th {\n",
       "        vertical-align: top;\n",
       "    }\n",
       "\n",
       "    .dataframe thead th {\n",
       "        text-align: right;\n",
       "    }\n",
       "</style>\n",
       "<table border=\"1\" class=\"dataframe\">\n",
       "  <thead>\n",
       "    <tr style=\"text-align: right;\">\n",
       "      <th></th>\n",
       "      <th>id</th>\n",
       "      <th>price</th>\n",
       "      <th>bedrooms</th>\n",
       "      <th>bathrooms</th>\n",
       "      <th>sqft_living</th>\n",
       "      <th>sqft_lot</th>\n",
       "      <th>floors</th>\n",
       "      <th>waterfront</th>\n",
       "      <th>view</th>\n",
       "      <th>condition</th>\n",
       "      <th>grade</th>\n",
       "      <th>sqft_above</th>\n",
       "      <th>yr_built</th>\n",
       "      <th>yr_renovated</th>\n",
       "      <th>zipcode</th>\n",
       "      <th>lat</th>\n",
       "      <th>long</th>\n",
       "      <th>sqft_living15</th>\n",
       "      <th>sqft_lot15</th>\n",
       "    </tr>\n",
       "  </thead>\n",
       "  <tbody>\n",
       "    <tr>\n",
       "      <th>count</th>\n",
       "      <td>2.159700e+04</td>\n",
       "      <td>2.159700e+04</td>\n",
       "      <td>21597.000000</td>\n",
       "      <td>21597.000000</td>\n",
       "      <td>21597.000000</td>\n",
       "      <td>2.159700e+04</td>\n",
       "      <td>21597.000000</td>\n",
       "      <td>19221.000000</td>\n",
       "      <td>21534.000000</td>\n",
       "      <td>21597.000000</td>\n",
       "      <td>21597.000000</td>\n",
       "      <td>21597.000000</td>\n",
       "      <td>21597.000000</td>\n",
       "      <td>17755.000000</td>\n",
       "      <td>21597.000000</td>\n",
       "      <td>21597.000000</td>\n",
       "      <td>21597.000000</td>\n",
       "      <td>21597.000000</td>\n",
       "      <td>21597.000000</td>\n",
       "    </tr>\n",
       "    <tr>\n",
       "      <th>mean</th>\n",
       "      <td>4.580474e+09</td>\n",
       "      <td>5.402966e+05</td>\n",
       "      <td>3.373200</td>\n",
       "      <td>2.115826</td>\n",
       "      <td>2080.321850</td>\n",
       "      <td>1.509941e+04</td>\n",
       "      <td>1.494096</td>\n",
       "      <td>0.007596</td>\n",
       "      <td>0.233863</td>\n",
       "      <td>3.409825</td>\n",
       "      <td>7.657915</td>\n",
       "      <td>1788.596842</td>\n",
       "      <td>1970.999676</td>\n",
       "      <td>83.636778</td>\n",
       "      <td>98077.951845</td>\n",
       "      <td>47.560093</td>\n",
       "      <td>-122.213982</td>\n",
       "      <td>1986.620318</td>\n",
       "      <td>12758.283512</td>\n",
       "    </tr>\n",
       "    <tr>\n",
       "      <th>std</th>\n",
       "      <td>2.876736e+09</td>\n",
       "      <td>3.673681e+05</td>\n",
       "      <td>0.926299</td>\n",
       "      <td>0.768984</td>\n",
       "      <td>918.106125</td>\n",
       "      <td>4.141264e+04</td>\n",
       "      <td>0.539683</td>\n",
       "      <td>0.086825</td>\n",
       "      <td>0.765686</td>\n",
       "      <td>0.650546</td>\n",
       "      <td>1.173200</td>\n",
       "      <td>827.759761</td>\n",
       "      <td>29.375234</td>\n",
       "      <td>399.946414</td>\n",
       "      <td>53.513072</td>\n",
       "      <td>0.138552</td>\n",
       "      <td>0.140724</td>\n",
       "      <td>685.230472</td>\n",
       "      <td>27274.441950</td>\n",
       "    </tr>\n",
       "    <tr>\n",
       "      <th>min</th>\n",
       "      <td>1.000102e+06</td>\n",
       "      <td>7.800000e+04</td>\n",
       "      <td>1.000000</td>\n",
       "      <td>0.500000</td>\n",
       "      <td>370.000000</td>\n",
       "      <td>5.200000e+02</td>\n",
       "      <td>1.000000</td>\n",
       "      <td>0.000000</td>\n",
       "      <td>0.000000</td>\n",
       "      <td>1.000000</td>\n",
       "      <td>3.000000</td>\n",
       "      <td>370.000000</td>\n",
       "      <td>1900.000000</td>\n",
       "      <td>0.000000</td>\n",
       "      <td>98001.000000</td>\n",
       "      <td>47.155900</td>\n",
       "      <td>-122.519000</td>\n",
       "      <td>399.000000</td>\n",
       "      <td>651.000000</td>\n",
       "    </tr>\n",
       "    <tr>\n",
       "      <th>25%</th>\n",
       "      <td>2.123049e+09</td>\n",
       "      <td>3.220000e+05</td>\n",
       "      <td>3.000000</td>\n",
       "      <td>1.750000</td>\n",
       "      <td>1430.000000</td>\n",
       "      <td>5.040000e+03</td>\n",
       "      <td>1.000000</td>\n",
       "      <td>0.000000</td>\n",
       "      <td>0.000000</td>\n",
       "      <td>3.000000</td>\n",
       "      <td>7.000000</td>\n",
       "      <td>1190.000000</td>\n",
       "      <td>1951.000000</td>\n",
       "      <td>0.000000</td>\n",
       "      <td>98033.000000</td>\n",
       "      <td>47.471100</td>\n",
       "      <td>-122.328000</td>\n",
       "      <td>1490.000000</td>\n",
       "      <td>5100.000000</td>\n",
       "    </tr>\n",
       "    <tr>\n",
       "      <th>50%</th>\n",
       "      <td>3.904930e+09</td>\n",
       "      <td>4.500000e+05</td>\n",
       "      <td>3.000000</td>\n",
       "      <td>2.250000</td>\n",
       "      <td>1910.000000</td>\n",
       "      <td>7.618000e+03</td>\n",
       "      <td>1.500000</td>\n",
       "      <td>0.000000</td>\n",
       "      <td>0.000000</td>\n",
       "      <td>3.000000</td>\n",
       "      <td>7.000000</td>\n",
       "      <td>1560.000000</td>\n",
       "      <td>1975.000000</td>\n",
       "      <td>0.000000</td>\n",
       "      <td>98065.000000</td>\n",
       "      <td>47.571800</td>\n",
       "      <td>-122.231000</td>\n",
       "      <td>1840.000000</td>\n",
       "      <td>7620.000000</td>\n",
       "    </tr>\n",
       "    <tr>\n",
       "      <th>75%</th>\n",
       "      <td>7.308900e+09</td>\n",
       "      <td>6.450000e+05</td>\n",
       "      <td>4.000000</td>\n",
       "      <td>2.500000</td>\n",
       "      <td>2550.000000</td>\n",
       "      <td>1.068500e+04</td>\n",
       "      <td>2.000000</td>\n",
       "      <td>0.000000</td>\n",
       "      <td>0.000000</td>\n",
       "      <td>4.000000</td>\n",
       "      <td>8.000000</td>\n",
       "      <td>2210.000000</td>\n",
       "      <td>1997.000000</td>\n",
       "      <td>0.000000</td>\n",
       "      <td>98118.000000</td>\n",
       "      <td>47.678000</td>\n",
       "      <td>-122.125000</td>\n",
       "      <td>2360.000000</td>\n",
       "      <td>10083.000000</td>\n",
       "    </tr>\n",
       "    <tr>\n",
       "      <th>max</th>\n",
       "      <td>9.900000e+09</td>\n",
       "      <td>7.700000e+06</td>\n",
       "      <td>33.000000</td>\n",
       "      <td>8.000000</td>\n",
       "      <td>13540.000000</td>\n",
       "      <td>1.651359e+06</td>\n",
       "      <td>3.500000</td>\n",
       "      <td>1.000000</td>\n",
       "      <td>4.000000</td>\n",
       "      <td>5.000000</td>\n",
       "      <td>13.000000</td>\n",
       "      <td>9410.000000</td>\n",
       "      <td>2015.000000</td>\n",
       "      <td>2015.000000</td>\n",
       "      <td>98199.000000</td>\n",
       "      <td>47.777600</td>\n",
       "      <td>-121.315000</td>\n",
       "      <td>6210.000000</td>\n",
       "      <td>871200.000000</td>\n",
       "    </tr>\n",
       "  </tbody>\n",
       "</table>\n",
       "</div>"
      ],
      "text/plain": [
       "                 id         price      bedrooms     bathrooms   sqft_living  \\\n",
       "count  2.159700e+04  2.159700e+04  21597.000000  21597.000000  21597.000000   \n",
       "mean   4.580474e+09  5.402966e+05      3.373200      2.115826   2080.321850   \n",
       "std    2.876736e+09  3.673681e+05      0.926299      0.768984    918.106125   \n",
       "min    1.000102e+06  7.800000e+04      1.000000      0.500000    370.000000   \n",
       "25%    2.123049e+09  3.220000e+05      3.000000      1.750000   1430.000000   \n",
       "50%    3.904930e+09  4.500000e+05      3.000000      2.250000   1910.000000   \n",
       "75%    7.308900e+09  6.450000e+05      4.000000      2.500000   2550.000000   \n",
       "max    9.900000e+09  7.700000e+06     33.000000      8.000000  13540.000000   \n",
       "\n",
       "           sqft_lot        floors    waterfront          view     condition  \\\n",
       "count  2.159700e+04  21597.000000  19221.000000  21534.000000  21597.000000   \n",
       "mean   1.509941e+04      1.494096      0.007596      0.233863      3.409825   \n",
       "std    4.141264e+04      0.539683      0.086825      0.765686      0.650546   \n",
       "min    5.200000e+02      1.000000      0.000000      0.000000      1.000000   \n",
       "25%    5.040000e+03      1.000000      0.000000      0.000000      3.000000   \n",
       "50%    7.618000e+03      1.500000      0.000000      0.000000      3.000000   \n",
       "75%    1.068500e+04      2.000000      0.000000      0.000000      4.000000   \n",
       "max    1.651359e+06      3.500000      1.000000      4.000000      5.000000   \n",
       "\n",
       "              grade    sqft_above      yr_built  yr_renovated       zipcode  \\\n",
       "count  21597.000000  21597.000000  21597.000000  17755.000000  21597.000000   \n",
       "mean       7.657915   1788.596842   1970.999676     83.636778  98077.951845   \n",
       "std        1.173200    827.759761     29.375234    399.946414     53.513072   \n",
       "min        3.000000    370.000000   1900.000000      0.000000  98001.000000   \n",
       "25%        7.000000   1190.000000   1951.000000      0.000000  98033.000000   \n",
       "50%        7.000000   1560.000000   1975.000000      0.000000  98065.000000   \n",
       "75%        8.000000   2210.000000   1997.000000      0.000000  98118.000000   \n",
       "max       13.000000   9410.000000   2015.000000   2015.000000  98199.000000   \n",
       "\n",
       "                lat          long  sqft_living15     sqft_lot15  \n",
       "count  21597.000000  21597.000000   21597.000000   21597.000000  \n",
       "mean      47.560093   -122.213982    1986.620318   12758.283512  \n",
       "std        0.138552      0.140724     685.230472   27274.441950  \n",
       "min       47.155900   -122.519000     399.000000     651.000000  \n",
       "25%       47.471100   -122.328000    1490.000000    5100.000000  \n",
       "50%       47.571800   -122.231000    1840.000000    7620.000000  \n",
       "75%       47.678000   -122.125000    2360.000000   10083.000000  \n",
       "max       47.777600   -121.315000    6210.000000  871200.000000  "
      ]
     },
     "execution_count": 5,
     "metadata": {},
     "output_type": "execute_result"
    }
   ],
   "source": [
    "print('\\n *Data Description* \\n')\n",
    "df.describe()"
   ]
  },
  {
   "cell_type": "markdown",
   "metadata": {},
   "source": [
    "<a id=\"3.2\"></a>"
   ]
  },
  {
   "cell_type": "markdown",
   "metadata": {},
   "source": [
    "### 3.2 - Categorical Data & Datatypes"
   ]
  },
  {
   "cell_type": "markdown",
   "metadata": {},
   "source": [
    "**Broad overview of value counts in each feature. Immediate observations include:**\n",
    "> - sqft_basement contains '?' and '0.0' values. \n",
    "> - waterfront is likely categorical.\n",
    "> - condition, grade, and view seem to reflect a scale with defined categories. "
   ]
  },
  {
   "cell_type": "code",
   "execution_count": 6,
   "metadata": {},
   "outputs": [
    {
     "name": "stdout",
     "output_type": "stream",
     "text": [
      "id \n",
      " 795000620     0.000139\n",
      "1825069031    0.000093\n",
      "2019200220    0.000093\n",
      "7129304540    0.000093\n",
      "1781500435    0.000093\n",
      "Name: id, dtype: float64 \n",
      "\n",
      "\n",
      "date \n",
      " 6/23/2014    0.006575\n",
      "6/26/2014    0.006066\n",
      "6/25/2014    0.006066\n",
      "7/8/2014     0.005880\n",
      "4/27/2015    0.005834\n",
      "Name: date, dtype: float64 \n",
      "\n",
      "\n",
      "price \n",
      " 350000.0    0.007964\n",
      "450000.0    0.007964\n",
      "550000.0    0.007362\n",
      "500000.0    0.007038\n",
      "425000.0    0.006945\n",
      "Name: price, dtype: float64 \n",
      "\n",
      "\n",
      "bedrooms \n",
      " 3    0.454878\n",
      "4    0.318655\n",
      "2    0.127796\n",
      "5    0.074131\n",
      "6    0.012594\n",
      "Name: bedrooms, dtype: float64 \n",
      "\n",
      "\n",
      "bathrooms \n",
      " 2.50    0.248970\n",
      "1.00    0.178312\n",
      "1.75    0.141131\n",
      "2.25    0.094782\n",
      "2.00    0.089364\n",
      "Name: bathrooms, dtype: float64 \n",
      "\n",
      "\n",
      "sqft_living \n",
      " 1300    0.006390\n",
      "1400    0.006251\n",
      "1440    0.006158\n",
      "1660    0.005973\n",
      "1010    0.005973\n",
      "Name: sqft_living, dtype: float64 \n",
      "\n",
      "\n",
      "sqft_lot \n",
      " 5000    0.016576\n",
      "6000    0.013428\n",
      "4000    0.011622\n",
      "7200    0.010187\n",
      "7500    0.005510\n",
      "Name: sqft_lot, dtype: float64 \n",
      "\n",
      "\n",
      "floors \n",
      " 1.0    0.494189\n",
      "2.0    0.381303\n",
      "1.5    0.088438\n",
      "3.0    0.028291\n",
      "2.5    0.007455\n",
      "Name: floors, dtype: float64 \n",
      "\n",
      "\n",
      "waterfront \n",
      " 0.0    0.992404\n",
      "1.0    0.007596\n",
      "Name: waterfront, dtype: float64 \n",
      "\n",
      "\n",
      "view \n",
      " 0.0    0.901923\n",
      "2.0    0.044441\n",
      "3.0    0.023591\n",
      "1.0    0.015325\n",
      "4.0    0.014721\n",
      "Name: view, dtype: float64 \n",
      "\n",
      "\n",
      "condition \n",
      " 3    0.649164\n",
      "4    0.262861\n",
      "5    0.078761\n",
      "2    0.007871\n",
      "1    0.001343\n",
      "Name: condition, dtype: float64 \n",
      "\n",
      "\n",
      "grade \n",
      " 7     0.415521\n",
      "8     0.280826\n",
      "9     0.121082\n",
      "6     0.094365\n",
      "10    0.052507\n",
      "Name: grade, dtype: float64 \n",
      "\n",
      "\n",
      "sqft_above \n",
      " 1300    0.009816\n",
      "1010    0.009724\n",
      "1200    0.009538\n",
      "1220    0.008890\n",
      "1140    0.008520\n",
      "Name: sqft_above, dtype: float64 \n",
      "\n",
      "\n",
      "sqft_basement \n",
      " 0.0      0.593879\n",
      "?        0.021021\n",
      "600.0    0.010048\n",
      "500.0    0.009677\n",
      "700.0    0.009631\n",
      "Name: sqft_basement, dtype: float64 \n",
      "\n",
      "\n",
      "yr_built \n",
      " 2014    0.025883\n",
      "2006    0.020975\n",
      "2005    0.020836\n",
      "2004    0.020049\n",
      "2003    0.019447\n",
      "Name: yr_built, dtype: float64 \n",
      "\n",
      "\n",
      "yr_renovated \n",
      " 0.0       0.958096\n",
      "2014.0    0.004112\n",
      "2003.0    0.001746\n",
      "2013.0    0.001746\n",
      "2007.0    0.001690\n",
      "Name: yr_renovated, dtype: float64 \n",
      "\n",
      "\n",
      "zipcode \n",
      " 98103    0.027874\n",
      "98038    0.027272\n",
      "98115    0.026994\n",
      "98052    0.026578\n",
      "98117    0.025605\n",
      "Name: zipcode, dtype: float64 \n",
      "\n",
      "\n",
      "lat \n",
      " 47.6624    0.000787\n",
      "47.5491    0.000787\n",
      "47.5322    0.000787\n",
      "47.6846    0.000787\n",
      "47.6711    0.000741\n",
      "Name: lat, dtype: float64 \n",
      "\n",
      "\n",
      "long \n",
      " -122.290    0.005325\n",
      "-122.300    0.005140\n",
      "-122.362    0.004815\n",
      "-122.291    0.004630\n",
      "-122.372    0.004584\n",
      "Name: long, dtype: float64 \n",
      "\n",
      "\n",
      "sqft_living15 \n",
      " 1540    0.009122\n",
      "1440    0.009029\n",
      "1560    0.008890\n",
      "1500    0.008334\n",
      "1460    0.007825\n",
      "Name: sqft_living15, dtype: float64 \n",
      "\n",
      "\n",
      "sqft_lot15 \n",
      " 5000    0.019771\n",
      "4000    0.016484\n",
      "6000    0.013335\n",
      "7200    0.009724\n",
      "4800    0.006714\n",
      "Name: sqft_lot15, dtype: float64 \n",
      "\n",
      "\n"
     ]
    }
   ],
   "source": [
    "for col in df.columns:\n",
    "    print(col, '\\n', df[col].value_counts(normalize=True).head(), '\\n\\n')"
   ]
  },
  {
   "cell_type": "code",
   "execution_count": 7,
   "metadata": {
    "scrolled": true
   },
   "outputs": [
    {
     "name": "stdout",
     "output_type": "stream",
     "text": [
      "\n",
      " *Value Counts - sqft_basement* \n",
      "\n",
      "0.0      12826\n",
      "?          454\n",
      "600.0      217\n",
      "500.0      209\n",
      "700.0      208\n",
      "Name: sqft_basement, dtype: int64 \n",
      "\n",
      "\n",
      " *Value Percentages - sqft_basement* \n",
      "\n",
      "0.0      0.593879\n",
      "?        0.021021\n",
      "600.0    0.010048\n",
      "500.0    0.009677\n",
      "700.0    0.009631\n",
      "Name: sqft_basement, dtype: float64\n"
     ]
    }
   ],
   "source": [
    "print('\\n *Value Counts - sqft_basement* \\n')\n",
    "print(df['sqft_basement'].value_counts().head(),'\\n')\n",
    "print('\\n *Value Percentages - sqft_basement* \\n')\n",
    "print(df['sqft_basement'].value_counts(normalize=True).head())"
   ]
  },
  {
   "cell_type": "markdown",
   "metadata": {},
   "source": [
    "<br> **Modify Datatypes & Replace Values**"
   ]
  },
  {
   "cell_type": "code",
   "execution_count": 8,
   "metadata": {
    "scrolled": true
   },
   "outputs": [
    {
     "name": "stdout",
     "output_type": "stream",
     "text": [
      "\n",
      " *Replace & Change Datatype* \n",
      "\n"
     ]
    },
    {
     "data": {
      "text/plain": [
       "0      13280\n",
       "600      217\n",
       "500      209\n",
       "700      208\n",
       "800      201\n",
       "Name: sqft_basement, dtype: int64"
      ]
     },
     "execution_count": 8,
     "metadata": {},
     "output_type": "execute_result"
    }
   ],
   "source": [
    "print('\\n *Replace & Change Datatype* \\n')\n",
    "df.sqft_basement.replace(['?'], '0', inplace=True)\n",
    "df.sqft_basement = df.sqft_basement.astype('float').astype('int')\n",
    "df.sqft_basement.value_counts().head()"
   ]
  },
  {
   "cell_type": "code",
   "execution_count": 9,
   "metadata": {},
   "outputs": [
    {
     "data": {
      "text/plain": [
       "0.0    19075\n",
       "1.0      146\n",
       "Name: waterfront, dtype: int64"
      ]
     },
     "execution_count": 9,
     "metadata": {},
     "output_type": "execute_result"
    }
   ],
   "source": [
    "df['waterfront'].value_counts()"
   ]
  },
  {
   "cell_type": "code",
   "execution_count": 10,
   "metadata": {},
   "outputs": [
    {
     "name": "stdout",
     "output_type": "stream",
     "text": [
      "['nan' '0.0' '1.0']\n",
      "['3' '5' '4' '1' '2']\n",
      "['7' '6' '8' '11' '9' '5' '10' '12' '4' '3' '13']\n"
     ]
    }
   ],
   "source": [
    "df.waterfront = df.waterfront.astype('str')\n",
    "df.condition = df.condition.astype('str')\n",
    "df.grade = df.grade.astype('str')\n",
    "\n",
    "print(df.waterfront.unique())\n",
    "print(df.condition.unique())\n",
    "print(df.grade.unique())"
   ]
  },
  {
   "cell_type": "code",
   "execution_count": 11,
   "metadata": {},
   "outputs": [],
   "source": [
    "df.price = df.price.astype('int')\n",
    "#change price to integer?"
   ]
  },
  {
   "cell_type": "code",
   "execution_count": 12,
   "metadata": {},
   "outputs": [
    {
     "name": "stdout",
     "output_type": "stream",
     "text": [
      "0    1.0\n",
      "1    2.0\n",
      "2    1.0\n",
      "3    1.0\n",
      "4    1.0\n",
      "Name: floors, dtype: float64\n",
      "0    1.00\n",
      "1    2.25\n",
      "2    1.00\n",
      "3    3.00\n",
      "4    2.00\n",
      "Name: bathrooms, dtype: float64\n"
     ]
    }
   ],
   "source": [
    "print(df.floors.head())\n",
    "print(df.bathrooms.head())\n",
    "# leave as floats."
   ]
  },
  {
   "cell_type": "code",
   "execution_count": 13,
   "metadata": {
    "scrolled": true
   },
   "outputs": [
    {
     "data": {
      "text/plain": [
       "date\n",
       "1      978\n",
       "2     1247\n",
       "3     1875\n",
       "4     2229\n",
       "5     2414\n",
       "6     2178\n",
       "7     2211\n",
       "8     1939\n",
       "9     1771\n",
       "10    1876\n",
       "11    1409\n",
       "12    1470\n",
       "Name: date, dtype: int64"
      ]
     },
     "execution_count": 13,
     "metadata": {},
     "output_type": "execute_result"
    }
   ],
   "source": [
    "from datetime import datetime\n",
    "df['date'] = pd.to_datetime(df['date'], format=\"%m/%d/%Y\") \n",
    "df_date_graph = df['date'].groupby([df.date.dt.month]).agg('count')\n",
    "df_date_graph"
   ]
  },
  {
   "cell_type": "markdown",
   "metadata": {},
   "source": [
    "<a id=\"3.3\"></a>"
   ]
  },
  {
   "cell_type": "markdown",
   "metadata": {},
   "source": [
    "### 3.3 - Null Values, Duplicates, & Outliers"
   ]
  },
  {
   "cell_type": "markdown",
   "metadata": {},
   "source": [
    "**EXAMINE DUPLICATES**"
   ]
  },
  {
   "cell_type": "code",
   "execution_count": 14,
   "metadata": {
    "scrolled": true
   },
   "outputs": [
    {
     "name": "stdout",
     "output_type": "stream",
     "text": [
      "\n",
      " *Duplicates* \n",
      "\n",
      "0\n",
      "Empty DataFrame\n",
      "Columns: [id, date, price, bedrooms, bathrooms, sqft_living, sqft_lot, floors, waterfront, view, condition, grade, sqft_above, sqft_basement, yr_built, yr_renovated, zipcode, lat, long, sqft_living15, sqft_lot15]\n",
      "Index: []\n",
      "\n",
      "[0 rows x 21 columns]\n"
     ]
    }
   ],
   "source": [
    "print('\\n *Duplicates* \\n')\n",
    "duplicates = df[df.duplicated()]\n",
    "print(len(duplicates))\n",
    "print(duplicates)\n",
    "#no duplicates?"
   ]
  },
  {
   "cell_type": "code",
   "execution_count": 15,
   "metadata": {},
   "outputs": [
    {
     "data": {
      "text/plain": [
       "795000620     3\n",
       "1825069031    2\n",
       "2019200220    2\n",
       "7129304540    2\n",
       "1781500435    2\n",
       "Name: id, dtype: int64"
      ]
     },
     "execution_count": 15,
     "metadata": {},
     "output_type": "execute_result"
    }
   ],
   "source": [
    "df['id'].value_counts().head()\n",
    "# Likely houses that were resold or re-inspected. \n",
    "# They should not skew the data since a new grade would affect the price accordingly."
   ]
  },
  {
   "cell_type": "markdown",
   "metadata": {},
   "source": [
    "**EXAMINE OUTLIERS**"
   ]
  },
  {
   "cell_type": "code",
   "execution_count": 16,
   "metadata": {},
   "outputs": [
    {
     "name": "stdout",
     "output_type": "stream",
     "text": [
      "\n",
      " *Bathrooms & Bedrooms* \n",
      "\n"
     ]
    },
    {
     "data": {
      "image/png": "[encoded data removed]",
      "text/plain": [
       "<Figure size 1152x288 with 1 Axes>"
      ]
     },
     "metadata": {
      "needs_background": "light"
     },
     "output_type": "display_data"
    }
   ],
   "source": [
    "print('\\n *Bathrooms & Bedrooms* \\n')\n",
    "df[['bedrooms', 'bathrooms']].plot(kind='box', vert=False, figsize=(16,4));"
   ]
  },
  {
   "cell_type": "code",
   "execution_count": 17,
   "metadata": {},
   "outputs": [
    {
     "name": "stdout",
     "output_type": "stream",
     "text": [
      "\n",
      " *Sqft - Living, Above, Living15* \n",
      "\n"
     ]
    },
    {
     "data": {
      "image/png": "[encoded data removed]",
      "text/plain": [
       "<Figure size 1152x288 with 1 Axes>"
      ]
     },
     "metadata": {
      "needs_background": "light"
     },
     "output_type": "display_data"
    }
   ],
   "source": [
    "print('\\n *Sqft - Living, Above, Living15* \\n')\n",
    "df[['sqft_living', 'sqft_above', 'sqft_living15']].plot(kind='box', vert=False, figsize=(16,4));"
   ]
  },
  {
   "cell_type": "code",
   "execution_count": 18,
   "metadata": {},
   "outputs": [
    {
     "name": "stdout",
     "output_type": "stream",
     "text": [
      "\n",
      " *Sqft - Lot & Lot15* \n",
      "\n"
     ]
    },
    {
     "data": {
      "image/png": "[encoded data removed]",
      "text/plain": [
       "<Figure size 1152x288 with 1 Axes>"
      ]
     },
     "metadata": {
      "needs_background": "light"
     },
     "output_type": "display_data"
    }
   ],
   "source": [
    "print('\\n *Sqft - Lot & Lot15* \\n')\n",
    "df[['sqft_lot', 'sqft_lot15']].plot(kind='box', vert=False, figsize=(16,4));"
   ]
  },
  {
   "cell_type": "markdown",
   "metadata": {},
   "source": [
    "**DEAL WITH NULL VALUES**"
   ]
  },
  {
   "cell_type": "code",
   "execution_count": 19,
   "metadata": {
    "scrolled": true
   },
   "outputs": [
    {
     "data": {
      "text/plain": [
       "id                  0\n",
       "date                0\n",
       "price               0\n",
       "bedrooms            0\n",
       "bathrooms           0\n",
       "sqft_living         0\n",
       "sqft_lot            0\n",
       "floors              0\n",
       "waterfront          0\n",
       "view               63\n",
       "condition           0\n",
       "grade               0\n",
       "sqft_above          0\n",
       "sqft_basement       0\n",
       "yr_built            0\n",
       "yr_renovated     3842\n",
       "zipcode             0\n",
       "lat                 0\n",
       "long                0\n",
       "sqft_living15       0\n",
       "sqft_lot15          0\n",
       "dtype: int64"
      ]
     },
     "execution_count": 19,
     "metadata": {},
     "output_type": "execute_result"
    }
   ],
   "source": [
    "df.isna().sum()"
   ]
  },
  {
   "cell_type": "code",
   "execution_count": 20,
   "metadata": {},
   "outputs": [
    {
     "name": "stdout",
     "output_type": "stream",
     "text": [
      "\n",
      " View - Unique Values:\n",
      "[ 0. nan  3.  4.  2.  1.]\n",
      "\n",
      " View - Value Counts:\n",
      "0.0    19422\n",
      "2.0      957\n",
      "3.0      508\n",
      "1.0      330\n",
      "4.0      317\n",
      "Name: view, dtype: int64\n",
      "\n",
      " View - Total NaN Values:\n",
      "63\n"
     ]
    }
   ],
   "source": [
    "print('\\n View - Unique Values:')\n",
    "print(df.view.unique()) \n",
    "print('\\n View - Value Counts:')\n",
    "print(df.view.value_counts())\n",
    "print('\\n View - Total NaN Values:')\n",
    "print(df.view.isna().sum())"
   ]
  },
  {
   "cell_type": "code",
   "execution_count": 21,
   "metadata": {
    "scrolled": true
   },
   "outputs": [
    {
     "name": "stdout",
     "output_type": "stream",
     "text": [
      "\n",
      " Replace NaN with \"0\":\n",
      "[0. 3. 4. 2. 1.]\n",
      "\n",
      " Type Change:\n",
      "0    19485\n",
      "2      957\n",
      "3      508\n",
      "1      330\n",
      "4      317\n",
      "Name: view, dtype: int64\n"
     ]
    }
   ],
   "source": [
    "print('\\n Replace NaN with \"0\":')\n",
    "df.view.fillna(0, inplace=True)\n",
    "print(df.view.unique())\n",
    "print('\\n Type Change:')\n",
    "df.view = df.view.astype('int64')\n",
    "print(df.view.value_counts())"
   ]
  },
  {
   "cell_type": "code",
   "execution_count": 22,
   "metadata": {},
   "outputs": [
    {
     "name": "stdout",
     "output_type": "stream",
     "text": [
      "\n",
      " Yr_Renovated:\n",
      "0.0       17011\n",
      "2014.0       73\n",
      "2003.0       31\n",
      "2013.0       31\n",
      "2007.0       30\n",
      "2000.0       29\n",
      "2005.0       29\n",
      "1990.0       22\n",
      "2004.0       22\n",
      "2009.0       21\n",
      "1989.0       20\n",
      "2006.0       20\n",
      "2002.0       17\n",
      "1991.0       16\n",
      "1998.0       16\n",
      "1984.0       16\n",
      "1999.0       15\n",
      "2008.0       15\n",
      "2010.0       15\n",
      "2001.0       15\n",
      "Name: yr_renovated, dtype: int64\n",
      "0.0       0.958096\n",
      "2014.0    0.004112\n",
      "2003.0    0.001746\n",
      "2013.0    0.001746\n",
      "2007.0    0.001690\n",
      "Name: yr_renovated, dtype: float64\n",
      "3842\n"
     ]
    }
   ],
   "source": [
    "print('\\n Yr_Renovated:')\n",
    "print(df.yr_renovated.value_counts().head(20))\n",
    "print(df.yr_renovated.value_counts(normalize=True).head())\n",
    "print(df.yr_renovated.isna().sum())\n"
   ]
  },
  {
   "cell_type": "code",
   "execution_count": 23,
   "metadata": {
    "scrolled": true
   },
   "outputs": [
    {
     "name": "stdout",
     "output_type": "stream",
     "text": [
      "\n",
      " Yr_Renovated Bins:\n",
      "[no_reno, 1990-1999, 2000-2010, after 2010, 1970-1979, 1980-1989, before 1970]\n",
      "Categories (7, object): [no_reno < before 1970 < 1970-1979 < 1980-1989 < 1990-1999 < 2000-2010 < after 2010]\n",
      "no_reno        20862\n",
      "2000-2010        229\n",
      "after 2010       150\n",
      "1990-1999        143\n",
      "1980-1989        124\n",
      "before 1970       47\n",
      "1970-1979         42\n",
      "Name: reno_year, dtype: int64\n"
     ]
    }
   ],
   "source": [
    "# Categorize yr_renovated\n",
    "\n",
    "cat = ['no_reno', 'before 1970', '1970-1979', '1980-1989', '1990-1999', '2000-2010', 'after 2010']\n",
    "bins = [0., 1950., 1970., 1980., 1990., 2000., 2010., 2019.]\n",
    "df['reno_year'] = pd.cut(df['yr_renovated'], bins, labels=cat, right=False)\n",
    "df.reno_year.fillna('no_reno', inplace=True)\n",
    "\n",
    "print('\\n Yr_Renovated Bins:')\n",
    "print(df.reno_year.unique())\n",
    "print(df.reno_year.value_counts())"
   ]
  },
  {
   "cell_type": "code",
   "execution_count": 24,
   "metadata": {},
   "outputs": [
    {
     "data": {
      "text/plain": [
       "0"
      ]
     },
     "execution_count": 24,
     "metadata": {},
     "output_type": "execute_result"
    }
   ],
   "source": [
    "df.reno_year.isna().sum()"
   ]
  },
  {
   "cell_type": "code",
   "execution_count": 25,
   "metadata": {},
   "outputs": [
    {
     "data": {
      "text/plain": [
       "pandas.core.series.Series"
      ]
     },
     "execution_count": 25,
     "metadata": {},
     "output_type": "execute_result"
    }
   ],
   "source": [
    "reno_year = df['reno_year']\n",
    "type(reno_year)\n",
    "\n"
   ]
  },
  {
   "cell_type": "code",
   "execution_count": 26,
   "metadata": {
    "scrolled": false
   },
   "outputs": [
    {
     "name": "stdout",
     "output_type": "stream",
     "text": [
      "<class 'pandas.core.frame.DataFrame'>\n",
      "RangeIndex: 21597 entries, 0 to 21596\n",
      "Data columns (total 22 columns):\n",
      "id               21597 non-null int64\n",
      "date             21597 non-null datetime64[ns]\n",
      "price            21597 non-null int64\n",
      "bedrooms         21597 non-null int64\n",
      "bathrooms        21597 non-null float64\n",
      "sqft_living      21597 non-null int64\n",
      "sqft_lot         21597 non-null int64\n",
      "floors           21597 non-null float64\n",
      "waterfront       21597 non-null object\n",
      "view             21597 non-null int64\n",
      "condition        21597 non-null object\n",
      "grade            21597 non-null object\n",
      "sqft_above       21597 non-null int64\n",
      "sqft_basement    21597 non-null int64\n",
      "yr_built         21597 non-null int64\n",
      "yr_renovated     17755 non-null float64\n",
      "zipcode          21597 non-null int64\n",
      "lat              21597 non-null float64\n",
      "long             21597 non-null float64\n",
      "sqft_living15    21597 non-null int64\n",
      "sqft_lot15       21597 non-null int64\n",
      "reno_year        21597 non-null category\n",
      "dtypes: category(1), datetime64[ns](1), float64(5), int64(12), object(3)\n",
      "memory usage: 3.5+ MB\n"
     ]
    }
   ],
   "source": [
    "df.info()"
   ]
  },
  {
   "cell_type": "markdown",
   "metadata": {},
   "source": [
    "<a id=\"3.4\"></a>"
   ]
  },
  {
   "cell_type": "markdown",
   "metadata": {},
   "source": [
    "### 3.4 - Feature Engineering"
   ]
  },
  {
   "cell_type": "markdown",
   "metadata": {},
   "source": [
    "> Separate exploration of 'Time of Year' & 'Location'.\n",
    "<br>Drop date from primary dataframe to deal with in separate dataframe.\n",
    "<br>Drop zipcode, lat, long to deal with in another dataframe."
   ]
  },
  {
   "cell_type": "markdown",
   "metadata": {},
   "source": [
    "**TIME OF YEAR AND PRICE**"
   ]
  },
  {
   "cell_type": "code",
   "execution_count": 27,
   "metadata": {
    "scrolled": true
   },
   "outputs": [
    {
     "data": {
      "text/plain": [
       "date\n",
       "1      978\n",
       "2     1247\n",
       "3     1875\n",
       "4     2229\n",
       "5     2414\n",
       "6     2178\n",
       "7     2211\n",
       "8     1939\n",
       "9     1771\n",
       "10    1876\n",
       "11    1409\n",
       "12    1470\n",
       "Name: date, dtype: int64"
      ]
     },
     "execution_count": 27,
     "metadata": {},
     "output_type": "execute_result"
    }
   ],
   "source": [
    "df_date_graph = df['date'].groupby([df.date.dt.month]).agg('count')\n",
    "df_date_graph"
   ]
  },
  {
   "cell_type": "code",
   "execution_count": 28,
   "metadata": {
    "scrolled": true
   },
   "outputs": [
    {
     "data": {
      "text/plain": [
       "['Jan',\n",
       " 'Feb',\n",
       " 'Mar',\n",
       " 'Apr',\n",
       " 'May',\n",
       " 'Jun',\n",
       " 'Jul',\n",
       " 'Aug',\n",
       " 'Sep',\n",
       " 'Oct',\n",
       " 'Nov',\n",
       " 'Dec']"
      ]
     },
     "execution_count": 28,
     "metadata": {},
     "output_type": "execute_result"
    }
   ],
   "source": [
    "import calendar\n",
    "import datetime\n",
    " \n",
    "month_num = 1\n",
    "month_abre = datetime.date(2015, month_num, 1).strftime('%b')\n",
    "\n",
    "calendar_list = [calendar.month_abbr[month_val] for month_val in range(1, 13)]\n",
    "\n",
    "calendar_list"
   ]
  },
  {
   "cell_type": "code",
   "execution_count": 29,
   "metadata": {
    "scrolled": true
   },
   "outputs": [
    {
     "data": {
      "image/png": "[encoded data removed]",
      "text/plain": [
       "<Figure size 432x288 with 1 Axes>"
      ]
     },
     "metadata": {
      "needs_background": "light"
     },
     "output_type": "display_data"
    }
   ],
   "source": [
    "sns.barplot(x=calendar_list, y=df_date_graph);"
   ]
  },
  {
   "cell_type": "markdown",
   "metadata": {},
   "source": [
    "**LOCATION AND PRICE**"
   ]
  },
  {
   "cell_type": "code",
   "execution_count": 30,
   "metadata": {
    "scrolled": true
   },
   "outputs": [
    {
     "data": {
      "text/html": [
       "<div>\n",
       "<style scoped>\n",
       "    .dataframe tbody tr th:only-of-type {\n",
       "        vertical-align: middle;\n",
       "    }\n",
       "\n",
       "    .dataframe tbody tr th {\n",
       "        vertical-align: top;\n",
       "    }\n",
       "\n",
       "    .dataframe thead th {\n",
       "        text-align: right;\n",
       "    }\n",
       "</style>\n",
       "<table border=\"1\" class=\"dataframe\">\n",
       "  <thead>\n",
       "    <tr style=\"text-align: right;\">\n",
       "      <th></th>\n",
       "      <th>price</th>\n",
       "      <th>zipcode</th>\n",
       "      <th>lat</th>\n",
       "      <th>long</th>\n",
       "    </tr>\n",
       "  </thead>\n",
       "  <tbody>\n",
       "    <tr>\n",
       "      <th>0</th>\n",
       "      <td>221900</td>\n",
       "      <td>98178</td>\n",
       "      <td>47.5112</td>\n",
       "      <td>-122.257</td>\n",
       "    </tr>\n",
       "    <tr>\n",
       "      <th>1</th>\n",
       "      <td>538000</td>\n",
       "      <td>98125</td>\n",
       "      <td>47.7210</td>\n",
       "      <td>-122.319</td>\n",
       "    </tr>\n",
       "    <tr>\n",
       "      <th>2</th>\n",
       "      <td>180000</td>\n",
       "      <td>98028</td>\n",
       "      <td>47.7379</td>\n",
       "      <td>-122.233</td>\n",
       "    </tr>\n",
       "    <tr>\n",
       "      <th>3</th>\n",
       "      <td>604000</td>\n",
       "      <td>98136</td>\n",
       "      <td>47.5208</td>\n",
       "      <td>-122.393</td>\n",
       "    </tr>\n",
       "    <tr>\n",
       "      <th>4</th>\n",
       "      <td>510000</td>\n",
       "      <td>98074</td>\n",
       "      <td>47.6168</td>\n",
       "      <td>-122.045</td>\n",
       "    </tr>\n",
       "  </tbody>\n",
       "</table>\n",
       "</div>"
      ],
      "text/plain": [
       "    price  zipcode      lat     long\n",
       "0  221900    98178  47.5112 -122.257\n",
       "1  538000    98125  47.7210 -122.319\n",
       "2  180000    98028  47.7379 -122.233\n",
       "3  604000    98136  47.5208 -122.393\n",
       "4  510000    98074  47.6168 -122.045"
      ]
     },
     "execution_count": 30,
     "metadata": {},
     "output_type": "execute_result"
    }
   ],
   "source": [
    "df_location = df[['price','zipcode','lat','long']]\n",
    "df_location.head()"
   ]
  },
  {
   "cell_type": "markdown",
   "metadata": {},
   "source": [
    "<a id=\"Map\"></a>"
   ]
  },
  {
   "cell_type": "code",
   "execution_count": 31,
   "metadata": {
    "scrolled": false
   },
   "outputs": [
    {
     "ename": "ModuleNotFoundError",
     "evalue": "No module named 'chart_studio'",
     "output_type": "error",
     "traceback": [
      "\u001b[0;31m---------------------------------------------------------------------------\u001b[0m",
      "\u001b[0;31mModuleNotFoundError\u001b[0m                       Traceback (most recent call last)",
      "\u001b[0;32m<ipython-input-31-14da01d8a5a5>\u001b[0m in \u001b[0;36m<module>\u001b[0;34m\u001b[0m\n\u001b[0;32m----> 1\u001b[0;31m \u001b[0;32mimport\u001b[0m \u001b[0mchart_studio\u001b[0m\u001b[0;34m.\u001b[0m\u001b[0mplotly\u001b[0m\u001b[0;34m\u001b[0m\u001b[0;34m\u001b[0m\u001b[0m\n\u001b[0m\u001b[1;32m      2\u001b[0m \u001b[0;32mimport\u001b[0m \u001b[0mplotly\u001b[0m\u001b[0;34m.\u001b[0m\u001b[0mgraph_objects\u001b[0m \u001b[0;32mas\u001b[0m \u001b[0mgo\u001b[0m\u001b[0;34m\u001b[0m\u001b[0;34m\u001b[0m\u001b[0m\n\u001b[1;32m      3\u001b[0m \u001b[0;32mimport\u001b[0m \u001b[0mplotly\u001b[0m\u001b[0;34m\u001b[0m\u001b[0;34m\u001b[0m\u001b[0m\n\u001b[1;32m      4\u001b[0m \u001b[0;32mimport\u001b[0m \u001b[0mpandas\u001b[0m \u001b[0;32mas\u001b[0m \u001b[0mpd\u001b[0m\u001b[0;34m\u001b[0m\u001b[0;34m\u001b[0m\u001b[0m\n\u001b[1;32m      5\u001b[0m \u001b[0;34m\u001b[0m\u001b[0m\n",
      "\u001b[0;31mModuleNotFoundError\u001b[0m: No module named 'chart_studio'"
     ]
    }
   ],
   "source": [
    "import chart_studio.plotly \n",
    "import plotly.graph_objects as go\n",
    "import plotly\n",
    "import pandas as pd\n",
    "\n",
    "from plotly.offline import init_notebook_mode, iplot\n",
    "init_notebook_mode(connected=True)     \n",
    "\n",
    "mapbox_access_token = 'pk.eyJ1IjoiZG1hdWdlciIsImEiOiJjazE4OXhuYmgxZ3d2M21uaXV5eWt6Nm5iIn0.8mXDhVPh7XaS9VSr1Uj7cw'\n",
    "chart_studio.tools.set_credentials_file(username='dmauger', api_key='AikWpcnd27N8lxreryv3')\n",
    "\n",
    "home_lat = df_location['lat']\n",
    "home_lon = df_location['long']\n",
    "\n",
    "data = [go.Scattermapbox(lat = home_lat, lon = home_lon,\n",
    "                         mode = 'markers',\n",
    "                         marker = dict(size = 2.55, opacity = 0.5, \n",
    "                                       color = df['price'],\n",
    "                                       colorbar = dict(title = 'Price (million)'),\n",
    "                                       colorscale = [[0, \"rgb(166,206,227)\"],\n",
    "                [0.10, \"rgb(31,120,180)\"],\n",
    "                [0.15, \"rgb(251,154,153)\"],\n",
    "                [0.20, \"rgb(227,26,28)\"],\n",
    "                [0.50, \"rgb(178,223,138)\"],\n",
    "                [1, \"rgb(51,160,44)\"]]),\n",
    "                         text = df['price'])]\n",
    "                      \n",
    "layout = go.Layout(title = 'Home Prices in King County, WA',\n",
    "                   autosize = True,\n",
    "                   hovermode = 'closest',\n",
    "                   showlegend = False,\n",
    "                   mapbox = dict(accesstoken = mapbox_access_token,\n",
    "                                 bearing = 0,\n",
    "                                 center = dict(lat = 47.61, lon = -122.2),\n",
    "                                 pitch = 0,\n",
    "                                 zoom = 9.5,\n",
    "                                 style = 'light'))\n",
    "\n",
    "fig = dict(data = data, layout = layout)\n",
    "iplot(fig)"
   ]
  },
  {
   "cell_type": "markdown",
   "metadata": {},
   "source": [
    "<a id=\"3.5\"></a>"
   ]
  },
  {
   "cell_type": "markdown",
   "metadata": {},
   "source": [
    "### 3.5 - Multicollinearity"
   ]
  },
  {
   "cell_type": "code",
   "execution_count": null,
   "metadata": {},
   "outputs": [],
   "source": [
    "print('\\n Correlation between Variables:')\n",
    "df_pred = df.iloc[:,3:]\n",
    "df_pred.corr()"
   ]
  },
  {
   "cell_type": "code",
   "execution_count": null,
   "metadata": {},
   "outputs": [],
   "source": [
    "print('\\n Measure of High Correlation:')\n",
    "abs(df_pred.corr()>0.75)"
   ]
  },
  {
   "cell_type": "code",
   "execution_count": null,
   "metadata": {},
   "outputs": [],
   "source": [
    "print('\\n Heatmap of Correlation:')\n",
    "ax, fig = plt.subplots(figsize = (15, 10))\n",
    "sns.heatmap(df_pred.corr(), annot=True, cmap='RdBu')\n",
    "plt.show() "
   ]
  },
  {
   "cell_type": "code",
   "execution_count": null,
   "metadata": {
    "scrolled": true
   },
   "outputs": [],
   "source": [
    "df = df.drop(columns=['sqft_above', 'sqft_living15'], axis=1)\n",
    "# Drop highly-correlated variables; keep bathrooms for now because it seems meaningful in reality. \n",
    "\n",
    "df = df.drop(columns=['id', 'date', 'zipcode', 'lat', 'long', 'yr_renovated', 'sqft_lot15'], axis=1)\n",
    "# Can also drop columns that are separated into other datasets.\n",
    "\n",
    "df.head()"
   ]
  },
  {
   "cell_type": "markdown",
   "metadata": {},
   "source": [
    "<a id=\"3.6\"></a>"
   ]
  },
  {
   "cell_type": "markdown",
   "metadata": {},
   "source": [
    "## 3.6 - Cleaned Dataset"
   ]
  },
  {
   "cell_type": "code",
   "execution_count": null,
   "metadata": {},
   "outputs": [],
   "source": [
    "print('\\n Overview of Clean Dataset:')\n",
    "df = round(df,2)\n",
    "df.head()"
   ]
  },
  {
   "cell_type": "code",
   "execution_count": null,
   "metadata": {
    "scrolled": true
   },
   "outputs": [],
   "source": [
    "df.info()"
   ]
  },
  {
   "cell_type": "markdown",
   "metadata": {},
   "source": [
    "<a id=\"004\"></a>"
   ]
  },
  {
   "cell_type": "markdown",
   "metadata": {},
   "source": [
    "## 4) Data Exploration & Plotting\n",
    "***"
   ]
  },
  {
   "cell_type": "markdown",
   "metadata": {},
   "source": [
    "### Overview of Patterns/Trends"
   ]
  },
  {
   "cell_type": "code",
   "execution_count": null,
   "metadata": {},
   "outputs": [],
   "source": [
    "col1 = ['floors', 'bedrooms', 'bathrooms', 'sqft_living', 'sqft_lot', 'price']\n",
    "col2 = ['condition', 'grade', 'sqft_basement', 'yr_built', 'reno_year', 'price']"
   ]
  },
  {
   "cell_type": "code",
   "execution_count": null,
   "metadata": {},
   "outputs": [],
   "source": [
    "sns.pairplot(df[col1], diag_kind='kde');"
   ]
  },
  {
   "cell_type": "code",
   "execution_count": null,
   "metadata": {},
   "outputs": [],
   "source": [
    "sns.pairplot(df[col2], diag_kind='kde');"
   ]
  },
  {
   "cell_type": "code",
   "execution_count": null,
   "metadata": {
    "scrolled": true
   },
   "outputs": [],
   "source": [
    "df.hist(figsize=(20,15)); \n",
    "# lacking normal distribution; need to standardize."
   ]
  },
  {
   "cell_type": "markdown",
   "metadata": {},
   "source": [
    "**Initial Observations**\n",
    "- possible categorical data includes: condition, grade, floors.\n",
    "- possible linear relationships with price: sqft_living, sqft_basement. \n",
    "- histograms do not show any normal distributions. "
   ]
  },
  {
   "cell_type": "markdown",
   "metadata": {},
   "source": [
    "### A Closer Look"
   ]
  },
  {
   "cell_type": "code",
   "execution_count": null,
   "metadata": {
    "scrolled": true
   },
   "outputs": [],
   "source": [
    "fig, ax = plt.subplots(figsize=(10,5))\n",
    "sns.stripplot(x='floors', y='price', data=df);\n",
    "plt.title('Price and View', fontweight='bold')\n",
    "plt.show()"
   ]
  },
  {
   "cell_type": "code",
   "execution_count": null,
   "metadata": {},
   "outputs": [],
   "source": [
    "fig, ax = plt.subplots(figsize=(10,5))\n",
    "sns.stripplot(x='view', y='price', data=df);\n",
    "plt.title('Price and View', fontweight='bold')\n",
    "plt.show()"
   ]
  },
  {
   "cell_type": "code",
   "execution_count": null,
   "metadata": {
    "scrolled": true
   },
   "outputs": [],
   "source": [
    "fig, ax = plt.subplots(figsize=(10,5))\n",
    "sns.stripplot(x='grade', y='price', data=df)\n",
    "plt.title('Price and Grade', fontweight='bold')\n",
    "plt.show()"
   ]
  },
  {
   "cell_type": "code",
   "execution_count": null,
   "metadata": {},
   "outputs": [],
   "source": [
    "df_grade_revised = df['grade'].astype('int64')\n",
    "df_price_revised = df['price']"
   ]
  },
  {
   "cell_type": "code",
   "execution_count": null,
   "metadata": {},
   "outputs": [],
   "source": [
    "sns.set_palette('muted')\n",
    "fig, ax = plt.subplots(figsize=(10,5))\n",
    "sns.regplot(x=df_grade_revised, y=df_price_revised)\n",
    "plt.title('Price and Grade', fontweight='bold')\n",
    "plt.show()"
   ]
  },
  {
   "cell_type": "code",
   "execution_count": null,
   "metadata": {},
   "outputs": [],
   "source": [
    "fig, ax = plt.subplots(figsize=(10,10))\n",
    "sns.stripplot(x='sqft_living', y='price', data=df)\n",
    "plt.title('Price and Sqft', fontweight='bold')\n",
    "plt.show()"
   ]
  },
  {
   "cell_type": "code",
   "execution_count": null,
   "metadata": {
    "scrolled": false
   },
   "outputs": [],
   "source": [
    "sns.lmplot(x='bathrooms', y='price', data=df);\n",
    "plt.title('Price and Bathrooms', fontweight='bold')\n",
    "plt.show()"
   ]
  },
  {
   "cell_type": "code",
   "execution_count": null,
   "metadata": {
    "scrolled": true
   },
   "outputs": [],
   "source": [
    "sns.lmplot(x=\"sqft_living\", y=\"price\", data=df);\n",
    "plt.title('Price and Sqft Living', fontweight='bold')\n",
    "plt.show()"
   ]
  },
  {
   "cell_type": "markdown",
   "metadata": {},
   "source": [
    "<a id=\"005\"></a>"
   ]
  },
  {
   "cell_type": "markdown",
   "metadata": {},
   "source": [
    "<a id=\"005\"></a>"
   ]
  },
  {
   "cell_type": "markdown",
   "metadata": {},
   "source": [
    "## 5) Modeling Data\n",
    "***"
   ]
  },
  {
   "cell_type": "markdown",
   "metadata": {},
   "source": [
    "5.1 [Continuous Variables](#5.1)\n",
    "<br>5.2 [Categorical Variables](#5.2)\n",
    "<br>5.3 [Regression Models](#5.3)\n",
    "<br>5.4 [Model Fit](#5.4)\n",
    "<br>5.5 [Feature Selection](#5.5)\n",
    "<br>5.6 [Train/Test](#5.6)\n",
    "<br>5.7 [Model Validation](#5.7)"
   ]
  },
  {
   "cell_type": "markdown",
   "metadata": {},
   "source": [
    "<a id=\"5.1\"></a>"
   ]
  },
  {
   "cell_type": "markdown",
   "metadata": {},
   "source": [
    "### 5.1 Continuous Variables"
   ]
  },
  {
   "cell_type": "code",
   "execution_count": null,
   "metadata": {},
   "outputs": [],
   "source": [
    "from statsmodels.formula.api import ols"
   ]
  },
  {
   "cell_type": "code",
   "execution_count": null,
   "metadata": {
    "scrolled": true
   },
   "outputs": [],
   "source": [
    "outcome = 'price'\n",
    "x_cols = ['sqft_living', 'sqft_basement', 'bedrooms', 'bathrooms', 'sqft_lot', 'floors', 'view', 'yr_built']\n",
    "predictors = '+'.join(x_cols)\n",
    "formula = outcome + '~' + predictors\n",
    "model = ols(formula=formula, data=df).fit()\n",
    "model.summary()"
   ]
  },
  {
   "cell_type": "code",
   "execution_count": null,
   "metadata": {},
   "outputs": [],
   "source": [
    "numbers_df = df[['sqft_living', 'sqft_lot', 'sqft_basement']]\n",
    "numbers2_df = df[['bedrooms', 'bathrooms', 'floors', 'view', 'yr_built']]"
   ]
  },
  {
   "cell_type": "code",
   "execution_count": null,
   "metadata": {},
   "outputs": [],
   "source": [
    "from sklearn.preprocessing import MinMaxScaler\n",
    "scaler = MinMaxScaler()\n",
    "norm_numb = scaler.fit_transform(numbers_df)\n",
    "scaled_numbers_df = pd.DataFrame(norm_numb, columns=['sqft_living', 'sqft_lot', 'sqft_basement'])"
   ]
  },
  {
   "cell_type": "code",
   "execution_count": null,
   "metadata": {},
   "outputs": [],
   "source": [
    "fig, axes = plt.subplots(nrows=1, ncols=3, figsize=(16,3))\n",
    "\n",
    "for xcol, ax in zip(['sqft_living', 'sqft_lot', 'sqft_basement'], axes):\n",
    "    df.plot(kind='scatter', x=xcol, y='price', ax=ax, alpha=0.4, color='b')"
   ]
  },
  {
   "cell_type": "code",
   "execution_count": null,
   "metadata": {},
   "outputs": [],
   "source": [
    "from sklearn.preprocessing import MinMaxScaler\n",
    "scaler = MinMaxScaler()\n",
    "norm_numb = scaler.fit_transform(numbers2_df)\n",
    "scaled_numbers_df = pd.DataFrame(norm_numb, columns=['bedrooms', 'bathrooms', 'floors', 'view', 'yr_built'])"
   ]
  },
  {
   "cell_type": "code",
   "execution_count": null,
   "metadata": {
    "scrolled": true
   },
   "outputs": [],
   "source": [
    "fig, axes = plt.subplots(nrows=1, ncols=5, figsize=(16,3))\n",
    "\n",
    "for xcol, ax in zip(['bedrooms', 'bathrooms', 'floors', 'view', 'yr_built'], axes):\n",
    "    df.plot(kind='scatter', x=xcol, y='price', ax=ax, alpha=0.4, color='b')"
   ]
  },
  {
   "cell_type": "markdown",
   "metadata": {},
   "source": [
    "<a id=\"5.2\"></a>"
   ]
  },
  {
   "cell_type": "markdown",
   "metadata": {},
   "source": [
    "### 5.2 Categorical Variables\n"
   ]
  },
  {
   "cell_type": "code",
   "execution_count": null,
   "metadata": {
    "scrolled": true
   },
   "outputs": [],
   "source": [
    "sns.catplot(x=\"waterfront\", y=\"price\", data=df, height=4, aspect=2)\n",
    "plt.title('\\nWaterfront vs. Price\\n', fontweight='bold')\n",
    "plt.xlabel('Waterfront')\n",
    "plt.ylabel('Price');"
   ]
  },
  {
   "cell_type": "code",
   "execution_count": null,
   "metadata": {},
   "outputs": [],
   "source": [
    "sns.catplot(x=\"grade\", y=\"price\", data=df, height=4, aspect=2)\n",
    "plt.title('\\nGrade vs. Price\\n', fontweight='bold')\n",
    "plt.xlabel('Grade')\n",
    "plt.ylabel('Price');"
   ]
  },
  {
   "cell_type": "code",
   "execution_count": null,
   "metadata": {},
   "outputs": [],
   "source": [
    "sns.catplot(x=\"condition\", y=\"price\", data=df, height=4, aspect=2)\n",
    "plt.title('\\nCondition vs. Price\\n', fontweight='bold')\n",
    "plt.xlabel('Condition')\n",
    "plt.ylabel('Price');"
   ]
  },
  {
   "cell_type": "code",
   "execution_count": null,
   "metadata": {},
   "outputs": [],
   "source": [
    "sns.catplot(x=\"reno_year\", y=\"price\", data=df, height=4, aspect=2)\n",
    "plt.title('\\nRenovation vs. Price\\n', fontweight='bold')\n",
    "plt.xlabel('Renovation')\n",
    "plt.ylabel('Price');"
   ]
  },
  {
   "cell_type": "code",
   "execution_count": null,
   "metadata": {
    "scrolled": true
   },
   "outputs": [],
   "source": [
    "import pandas as pd\n",
    "import matplotlib.pyplot as plt\n",
    "\n",
    "fig, axes = plt.subplots(nrows=1, ncols=4, figsize=(16,3))\n",
    "\n",
    "for xcol, ax in zip(['sqft_living', 'bedrooms', 'bathrooms', 'sqft_basement'], axes):\n",
    "    df.plot(kind='scatter', x=xcol, y='price', ax=ax, alpha=0.4, color='b')"
   ]
  },
  {
   "cell_type": "markdown",
   "metadata": {},
   "source": [
    "**Create Dummy Variables**"
   ]
  },
  {
   "cell_type": "code",
   "execution_count": null,
   "metadata": {},
   "outputs": [],
   "source": [
    "df.waterfront = df.waterfront.astype('category')\n",
    "df.condition = df.condition.astype('category')\n",
    "df.grade = df.grade.astype('category')"
   ]
  },
  {
   "cell_type": "code",
   "execution_count": null,
   "metadata": {},
   "outputs": [],
   "source": [
    "waterfront_dum = pd.get_dummies(df['waterfront'], prefix='wat_front', drop_first=True)\n",
    "condition_dum = pd.get_dummies(df['condition'], prefix='condition_dum', drop_first=True)\n",
    "grade_dum = pd.get_dummies(df['grade'], prefix='grade_dum', drop_first=True)\n",
    "reno_year_dum = pd.get_dummies(df['reno_year'], prefix='reno_yr', drop_first=True)"
   ]
  },
  {
   "cell_type": "code",
   "execution_count": null,
   "metadata": {},
   "outputs": [],
   "source": [
    "df = df.drop(['waterfront', 'condition', 'grade', 'reno_year'], axis=1)"
   ]
  },
  {
   "cell_type": "code",
   "execution_count": null,
   "metadata": {},
   "outputs": [],
   "source": [
    "df = pd.concat([df, waterfront_dum, condition_dum, grade_dum, reno_year_dum], axis=1)"
   ]
  },
  {
   "cell_type": "markdown",
   "metadata": {},
   "source": [
    "<a id=\"5.3\"></a>"
   ]
  },
  {
   "cell_type": "markdown",
   "metadata": {},
   "source": [
    "### 5.3 Regression Models"
   ]
  },
  {
   "cell_type": "markdown",
   "metadata": {},
   "source": [
    "#### Continous Variables Only"
   ]
  },
  {
   "cell_type": "code",
   "execution_count": null,
   "metadata": {},
   "outputs": [],
   "source": [
    "df_cont = df[['sqft_living', 'sqft_lot', 'sqft_basement','bedrooms', 'bathrooms', 'floors', 'view', 'yr_built']]\n",
    "df_cat = df[['wat_front_1.0', 'wat_front_nan',\n",
    "       'condition_dum_2', 'condition_dum_3', 'condition_dum_4',\n",
    "       'condition_dum_5', 'grade_dum_11', 'grade_dum_12', 'grade_dum_13',\n",
    "       'grade_dum_3', 'grade_dum_4', 'grade_dum_5', 'grade_dum_6',\n",
    "       'grade_dum_7', 'grade_dum_8', 'grade_dum_9', 'reno_yr_before 1970',\n",
    "       'reno_yr_1970-1979', 'reno_yr_1980-1989', 'reno_yr_1990-1999',\n",
    "       'reno_yr_2000-2010', 'reno_yr_after 2010']]"
   ]
  },
  {
   "cell_type": "code",
   "execution_count": null,
   "metadata": {},
   "outputs": [],
   "source": [
    "from sklearn.linear_model import LinearRegression\n",
    "import statsmodels.api as sm"
   ]
  },
  {
   "cell_type": "code",
   "execution_count": null,
   "metadata": {
    "scrolled": true
   },
   "outputs": [],
   "source": [
    "X = df_cont\n",
    "y = df['price']\n",
    "X = sm.add_constant(X)\n",
    "\n",
    "model_cont = sm.OLS(y, X).fit()\n",
    "prediction_cont = model_cont.predict(X)\n",
    "\n",
    "model_cont.summary()"
   ]
  },
  {
   "cell_type": "markdown",
   "metadata": {},
   "source": [
    "#### Categorical Predictors Only"
   ]
  },
  {
   "cell_type": "code",
   "execution_count": null,
   "metadata": {
    "scrolled": true
   },
   "outputs": [],
   "source": [
    "X = df_cat\n",
    "y = df['price']\n",
    "X = sm.add_constant(X)\n",
    "\n",
    "model_cat = sm.OLS(y, X).fit()\n",
    "prediction_cat = model_cat.predict(X)\n",
    "\n",
    "model_cat.summary()"
   ]
  },
  {
   "cell_type": "markdown",
   "metadata": {},
   "source": [
    "<a id=\"5.4\"></a>"
   ]
  },
  {
   "cell_type": "markdown",
   "metadata": {},
   "source": [
    "### 5.4 Model Fit and Validation"
   ]
  },
  {
   "cell_type": "code",
   "execution_count": null,
   "metadata": {},
   "outputs": [],
   "source": [
    "# Regression for continuous and categorical predictors. \n",
    "predictors = df.drop(['price'], axis=1)\n",
    "predictors.info()"
   ]
  },
  {
   "cell_type": "code",
   "execution_count": null,
   "metadata": {
    "scrolled": true
   },
   "outputs": [],
   "source": [
    "predictors = sm.add_constant(predictors)\n",
    "model = sm.OLS(df['price'],predictors).fit()\n",
    "model.summary()"
   ]
  },
  {
   "cell_type": "markdown",
   "metadata": {},
   "source": [
    "<a id=\"5.5\"></a>"
   ]
  },
  {
   "cell_type": "markdown",
   "metadata": {},
   "source": [
    "### 5.5 Feature Selection "
   ]
  },
  {
   "cell_type": "code",
   "execution_count": null,
   "metadata": {},
   "outputs": [],
   "source": [
    "import statsmodels.api as sm\n",
    "\n",
    "def stepwise_selection(X, y, \n",
    "                       initial_list=[], \n",
    "                       threshold_in=0.01, \n",
    "                       threshold_out = 0.05, \n",
    "                       verbose=True):\n",
    "    \"\"\" Perform a forward-backward feature selection \n",
    "    based on p-value from statsmodels.api.OLS\n",
    "    Arguments:\n",
    "        X - pandas.DataFrame with candidate features\n",
    "        y - list-like with the target\n",
    "        initial_list - list of features to start with (column names of X)\n",
    "        threshold_in - include a feature if its p-value < threshold_in\n",
    "        threshold_out - exclude a feature if its p-value > threshold_out\n",
    "        verbose - whether to print the sequence of inclusions and exclusions\n",
    "    Returns: list of selected features \n",
    "    Always set threshold_in < threshold_out to avoid infinite looping.\n",
    "    See https://en.wikipedia.org/wiki/Stepwise_regression for the details\n",
    "    \"\"\"\n",
    "    included = list(initial_list)\n",
    "    while True:\n",
    "        changed=False\n",
    "        # forward step\n",
    "        excluded = list(set(X.columns)-set(included))\n",
    "        new_pval = pd.Series(index=excluded)\n",
    "        for new_column in excluded:\n",
    "            model = sm.OLS(y, sm.add_constant(pd.DataFrame(X[included+[new_column]]))).fit()\n",
    "            new_pval[new_column] = model.pvalues[new_column]\n",
    "        best_pval = new_pval.min()\n",
    "        if best_pval < threshold_in:\n",
    "            best_feature = new_pval.idxmin()\n",
    "            included.append(best_feature)\n",
    "            changed=True\n",
    "            if verbose:\n",
    "                print('Add  {:30} with p-value {:.6}'.format(best_feature, best_pval))\n",
    "\n",
    "        # backward step\n",
    "        model = sm.OLS(y, sm.add_constant(pd.DataFrame(X[included]))).fit()\n",
    "        # use all coefs except intercept\n",
    "        pvalues = model.pvalues.iloc[1:]\n",
    "        worst_pval = pvalues.max() # null if pvalues is empty\n",
    "        if worst_pval > threshold_out:\n",
    "            changed=True\n",
    "            worst_feature = pvalues.argmax()\n",
    "            included.remove(worst_feature)\n",
    "            if verbose:\n",
    "                print('Drop {:30} with p-value {:.6}'.format(worst_feature, worst_pval))\n",
    "        if not changed:\n",
    "            break\n",
    "    return included### Feature Selection"
   ]
  },
  {
   "cell_type": "code",
   "execution_count": null,
   "metadata": {},
   "outputs": [],
   "source": [
    "result = stepwise_selection(predictors, df[\"price\"], verbose = True)\n",
    "print('resulting features:')\n",
    "print(result)"
   ]
  },
  {
   "cell_type": "code",
   "execution_count": null,
   "metadata": {},
   "outputs": [],
   "source": [
    "from sklearn.feature_selection import RFE\n",
    "from sklearn.linear_model import LinearRegression\n",
    "\n",
    "X = predictors\n",
    "y = df['price']\n",
    "\n",
    "linreg = LinearRegression()\n",
    "selector = RFE(linreg, n_features_to_select = 20)\n",
    "selector = selector.fit(predictors, df[\"price\"])"
   ]
  },
  {
   "cell_type": "code",
   "execution_count": null,
   "metadata": {},
   "outputs": [],
   "source": [
    "selector.support_\n",
    "selector.ranking_\n",
    "estimators = selector.estimator_\n",
    "\n",
    "print('\\n Coefficients:')\n",
    "print(estimators.coef_)\n",
    "print('\\n Intercept:')\n",
    "print(estimators.intercept_)"
   ]
  },
  {
   "cell_type": "code",
   "execution_count": null,
   "metadata": {},
   "outputs": [],
   "source": [
    "new_columns = X.columns[selector.support_]\n",
    "linreg.fit(X[new_columns], y);"
   ]
  },
  {
   "cell_type": "code",
   "execution_count": null,
   "metadata": {},
   "outputs": [],
   "source": [
    "print('\\nSelected Predictors:')\n",
    "print(new_columns)"
   ]
  },
  {
   "cell_type": "code",
   "execution_count": null,
   "metadata": {},
   "outputs": [],
   "source": [
    "y_hat = linreg.predict(X[new_columns])"
   ]
  },
  {
   "cell_type": "code",
   "execution_count": null,
   "metadata": {},
   "outputs": [],
   "source": [
    "SSR = np.sum((y - y_hat)**2)\n",
    "SST = np.sum((y - np.mean(y))**2)\n",
    "Rsq = 1 - (float(SSR)) / SST\n",
    "Rsq_adj = 1 - (1 - Rsq)*(len(y)-1)/(len(y) - X[new_columns].shape[1] - 1)"
   ]
  },
  {
   "cell_type": "code",
   "execution_count": null,
   "metadata": {
    "scrolled": true
   },
   "outputs": [],
   "source": [
    "print('SSR:', SSR)\n",
    "print('\\nSST:', SST)\n",
    "print('\\nRsq:', Rsq)\n",
    "print('\\nRsq Adj:', Rsq_adj)"
   ]
  },
  {
   "cell_type": "markdown",
   "metadata": {},
   "source": [
    "<a id=\"5.6\"></a>"
   ]
  },
  {
   "cell_type": "markdown",
   "metadata": {},
   "source": [
    "### 5.6 Train/Test Data"
   ]
  },
  {
   "cell_type": "code",
   "execution_count": null,
   "metadata": {},
   "outputs": [],
   "source": [
    "from sklearn.model_selection import train_test_split"
   ]
  },
  {
   "cell_type": "code",
   "execution_count": null,
   "metadata": {},
   "outputs": [],
   "source": [
    "test_col = ['grade_dum_11', 'grade_dum_7', 'grade_dum_6', 'wat_front_1.0', 'sqft_living', 'yr_built', 'grade_dum_12', 'grade_dum_13', 'grade_dum_8', 'grade_dum_5', 'grade_dum_9', 'view', 'bathrooms', 'grade_dum_4', 'bedrooms', 'floors', 'condition_dum_5', 'reno_yr_2000-2010', 'sqft_lot', 'sqft_basement', 'condition_dum_4', 'reno_yr_after 2010', 'grade_dum_3']\n",
    "X = df[test_col]\n",
    "y = df.price"
   ]
  },
  {
   "cell_type": "code",
   "execution_count": null,
   "metadata": {},
   "outputs": [],
   "source": [
    "X_train, X_test, y_train, y_test = train_test_split(X, y, test_size=0.2, random_state=42)\n",
    "print (X_train.shape, y_train.shape)\n",
    "print (X_test.shape, y_test.shape)"
   ]
  },
  {
   "cell_type": "code",
   "execution_count": null,
   "metadata": {},
   "outputs": [],
   "source": [
    "from sklearn.linear_model import LinearRegression\n",
    "linreg = LinearRegression()\n",
    "linreg.fit(X_train, y_train)\n",
    "\n",
    "y_hat_train = linreg.predict(X_train)\n",
    "y_hat_test = linreg.predict(X_test)"
   ]
  },
  {
   "cell_type": "code",
   "execution_count": null,
   "metadata": {},
   "outputs": [],
   "source": [
    "train_residuals = y_hat_train - y_train\n",
    "test_residuals = y_hat_test - y_test"
   ]
  },
  {
   "cell_type": "code",
   "execution_count": null,
   "metadata": {},
   "outputs": [],
   "source": [
    "from sklearn.metrics import mean_squared_error\n",
    "\n",
    "train_mse = mean_squared_error(y_train, y_hat_train)\n",
    "test_mse = mean_squared_error(y_test, y_hat_test)\n",
    "print('Train Mean Squarred Error:', train_mse)\n",
    "print('Test Mean Squarred Error:', test_mse)"
   ]
  },
  {
   "cell_type": "code",
   "execution_count": null,
   "metadata": {},
   "outputs": [],
   "source": [
    "model = LinearRegression()\n",
    "model.fit(X_train, y_train)\n",
    "\n",
    "print(\"Estimated R²:\")\n",
    "print(linreg.score(X,y))\n",
    "\n",
    "pd.DataFrame(list(zip(test_col, linreg.coef_)), columns=['Features', 'Coefficient'])"
   ]
  },
  {
   "cell_type": "code",
   "execution_count": null,
   "metadata": {},
   "outputs": [],
   "source": [
    "from sklearn import linear_model"
   ]
  },
  {
   "cell_type": "code",
   "execution_count": null,
   "metadata": {},
   "outputs": [],
   "source": [
    "lm = linear_model.LinearRegression()\n",
    "model = lm.fit(X_train, y_train)\n",
    "predictions = lm.predict(X_test)"
   ]
  },
  {
   "cell_type": "code",
   "execution_count": null,
   "metadata": {},
   "outputs": [],
   "source": [
    "print ('Test Data - R2 Score:', model.score(X_test, y_test))  \n",
    "print ('Train Data - R2 Score:', model.score(X_train, y_train)) "
   ]
  },
  {
   "cell_type": "code",
   "execution_count": null,
   "metadata": {
    "scrolled": true
   },
   "outputs": [],
   "source": [
    "y_pred_test = lm.predict(X_test)\n",
    "\n",
    "fig, ax = plt.subplots(1,2, figsize=(20, 6))\n",
    "\n",
    "# Test Data vs Actual Data\n",
    "ax1 = fig.add_subplot(121)\n",
    "ax1.scatter(y_test, y_pred_test, marker='.', c='navy')\n",
    "ax1.set_xlabel(\"\\nActual Prices\")\n",
    "ax1.set_ylabel(\"Predicted Prices\\n\")\n",
    "ax1.set_title(\"\\nPrice Comparison in Test Set\\n\", size=14, weight='bold')\n",
    "\n",
    "y_pred_train = lm.predict(X_train)\n",
    "\n",
    "# Train Data vs Actual Data\n",
    "ax2 = fig.add_subplot(122)\n",
    "ax2.scatter(y_train, y_pred_train, marker='.', c='green')\n",
    "ax2.set_xlabel(\"\\nActual Prices\")\n",
    "ax2.set_ylabel(\"Predicted Prices\\n\")\n",
    "ax2.set_title(\"\\nPrice Comparison in Train Set\\n\", size=14, weight='bold');"
   ]
  },
  {
   "cell_type": "markdown",
   "metadata": {},
   "source": [
    "<a id=\"5.7\"></a>"
   ]
  },
  {
   "cell_type": "markdown",
   "metadata": {},
   "source": [
    "### 5.7 K-Fold Cross Validation "
   ]
  },
  {
   "cell_type": "code",
   "execution_count": null,
   "metadata": {},
   "outputs": [],
   "source": [
    "from sklearn.metrics import mean_squared_error\n",
    "from sklearn.model_selection import cross_val_score\n",
    "from sklearn.linear_model import LinearRegression\n",
    "linreg = LinearRegression()\n",
    "\n",
    "cv_5_results = np.mean(cross_val_score(model, X, y, cv=5, scoring=\"r2\"))\n",
    "cv_10_results = np.mean(cross_val_score(model, X, y, cv=10, scoring='r2'))\n",
    "cv_20_results = np.mean(cross_val_score(model, X, y, cv=20, scoring=\"r2\"))\n",
    "\n",
    "print(cv_5_results)\n",
    "print(cv_10_results)\n",
    "print(cv_20_results)"
   ]
  },
  {
   "cell_type": "code",
   "execution_count": null,
   "metadata": {},
   "outputs": [],
   "source": [
    "mse_5_results = np.mean(cross_val_score(model, X, y, cv=5, scoring=\"neg_mean_squared_error\"))\n",
    "mse_10_results = np.mean(cross_val_score(model, X, y, cv=10, scoring=\"neg_mean_squared_error\"))\n",
    "mse_20_results = np.mean(cross_val_score(model, X, y, cv=20, scoring=\"neg_mean_squared_error\"))\n",
    "\n",
    "print(mse_5_results)\n",
    "print(mse_10_results)\n",
    "print(mse_20_results)"
   ]
  },
  {
   "cell_type": "markdown",
   "metadata": {},
   "source": [
    "<a id=\"006\"></a>"
   ]
  },
  {
   "cell_type": "markdown",
   "metadata": {},
   "source": [
    "## 6) Interpreting Data\n",
    "***"
   ]
  },
  {
   "cell_type": "markdown",
   "metadata": {},
   "source": [
    "### Revisiting Initial Questions:\n",
    "> 1) Does location affect the sale price of houses in Kings County?\n",
    "<br> 2) Does time of year affect the sale price of houses in Kings County?\n",
    "<br> 3) What feature(s) most significantly affect the sale prices of houses in Kings County?\n",
    "<br>"
   ]
  },
  {
   "cell_type": "markdown",
   "metadata": {},
   "source": [
    "1) **Location** clearly affects the price of houses, most noticeably the increased prices of houses on the **waterfront**. This can be seen in the previous [map of Kings County](#Map)"
   ]
  },
  {
   "cell_type": "markdown",
   "metadata": {},
   "source": [
    "2) The best time to sell a house in Kings County is in the **late Spring time to early Summer** months - March, April, May, June."
   ]
  },
  {
   "cell_type": "code",
   "execution_count": null,
   "metadata": {},
   "outputs": [],
   "source": [
    "sns.barplot(x=calendar_list, y=df_date_graph);"
   ]
  },
  {
   "cell_type": "markdown",
   "metadata": {},
   "source": [
    "3) The **Grade** of a house significantly affects the sale price. The higher grade houses (12/13) average nearly $1 million higher than lower grade houses. Other features that noticeably affect the price of a house include **renovation status**, **square footage of living area**, and the presence of **basements** or additional **bedrooms**. "
   ]
  }
 ],
 "metadata": {
  "kernelspec": {
   "display_name": "Python 3",
   "language": "python",
   "name": "python3"
  },
  "language_info": {
   "codemirror_mode": {
    "name": "ipython",
    "version": 3
   },
   "file_extension": ".py",
   "mimetype": "text/x-python",
   "name": "python",
   "nbconvert_exporter": "python",
   "pygments_lexer": "ipython3",
   "version": "3.7.3"
  }
 },
 "nbformat": 4,
 "nbformat_minor": 4
}
